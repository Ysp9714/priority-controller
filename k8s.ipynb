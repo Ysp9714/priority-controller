{
 "cells": [
  {
   "cell_type": "code",
   "execution_count": 2,
   "metadata": {},
   "outputs": [],
   "source": [
    "from kubernetes import client, config,utils"
   ]
  },
  {
   "attachments": {},
   "cell_type": "markdown",
   "metadata": {},
   "source": [
    "# Kubernete Api Client\n"
   ]
  },
  {
   "cell_type": "code",
   "execution_count": 5,
   "metadata": {},
   "outputs": [
    {
     "ename": "AttributeError",
     "evalue": "module 'kubernetes.client' has no attribute 'BatchVolcanoShV1alpha1Api'",
     "output_type": "error",
     "traceback": [
      "\u001b[0;31m---------------------------------------------------------------------------\u001b[0m",
      "\u001b[0;31mAttributeError\u001b[0m                            Traceback (most recent call last)",
      "\u001b[1;32m/Users/gimgihun/priority-controller/k8s.ipynb 셀 2\u001b[0m in \u001b[0;36m5\n\u001b[1;32m      <a href='vscode-notebook-cell:/Users/gimgihun/priority-controller/k8s.ipynb#W1sZmlsZQ%3D%3D?line=2'>3</a>\u001b[0m api_instance \u001b[39m=\u001b[39m client\u001b[39m.\u001b[39mCustomObjectsApi(k8s_client)\n\u001b[1;32m      <a href='vscode-notebook-cell:/Users/gimgihun/priority-controller/k8s.ipynb#W1sZmlsZQ%3D%3D?line=3'>4</a>\u001b[0m yaml_file \u001b[39m=\u001b[39m \u001b[39m'\u001b[39m\u001b[39m./vcjob.yaml\u001b[39m\u001b[39m'\u001b[39m\n\u001b[0;32m----> <a href='vscode-notebook-cell:/Users/gimgihun/priority-controller/k8s.ipynb#W1sZmlsZQ%3D%3D?line=4'>5</a>\u001b[0m utils\u001b[39m.\u001b[39;49mcreate_from_yaml(api_instance,yaml_file,verbose\u001b[39m=\u001b[39;49m\u001b[39mTrue\u001b[39;49;00m)\n",
      "File \u001b[0;32m/opt/homebrew/lib/python3.10/site-packages/kubernetes/utils/create_from_yaml.py:92\u001b[0m, in \u001b[0;36mcreate_from_yaml\u001b[0;34m(k8s_client, yaml_file, yaml_objects, verbose, namespace, **kwargs)\u001b[0m\n\u001b[1;32m     90\u001b[0m     \u001b[39mwith\u001b[39;00m \u001b[39mopen\u001b[39m(path\u001b[39m.\u001b[39mabspath(yaml_file)) \u001b[39mas\u001b[39;00m f:\n\u001b[1;32m     91\u001b[0m         yml_document_all \u001b[39m=\u001b[39m yaml\u001b[39m.\u001b[39msafe_load_all(f)\n\u001b[0;32m---> 92\u001b[0m         \u001b[39mreturn\u001b[39;00m create_with(yml_document_all)\n\u001b[1;32m     93\u001b[0m \u001b[39melse\u001b[39;00m:\n\u001b[1;32m     94\u001b[0m     \u001b[39mraise\u001b[39;00m \u001b[39mValueError\u001b[39;00m(\n\u001b[1;32m     95\u001b[0m         \u001b[39m'\u001b[39m\u001b[39mOne of `yaml_file` or `yaml_objects` arguments must be provided\u001b[39m\u001b[39m'\u001b[39m)\n",
      "File \u001b[0;32m/opt/homebrew/lib/python3.10/site-packages/kubernetes/utils/create_from_yaml.py:76\u001b[0m, in \u001b[0;36mcreate_from_yaml.<locals>.create_with\u001b[0;34m(objects)\u001b[0m\n\u001b[1;32m     74\u001b[0m     \u001b[39mcontinue\u001b[39;00m\n\u001b[1;32m     75\u001b[0m \u001b[39mtry\u001b[39;00m:\n\u001b[0;32m---> 76\u001b[0m     created \u001b[39m=\u001b[39m create_from_dict(k8s_client, yml_document, verbose,\n\u001b[1;32m     77\u001b[0m                                namespace\u001b[39m=\u001b[39;49mnamespace,\n\u001b[1;32m     78\u001b[0m                                \u001b[39m*\u001b[39;49m\u001b[39m*\u001b[39;49mkwargs)\n\u001b[1;32m     79\u001b[0m     k8s_objects\u001b[39m.\u001b[39mappend(created)\n\u001b[1;32m     80\u001b[0m \u001b[39mexcept\u001b[39;00m FailToCreateError \u001b[39mas\u001b[39;00m failure:\n",
      "File \u001b[0;32m/opt/homebrew/lib/python3.10/site-packages/kubernetes/utils/create_from_yaml.py:146\u001b[0m, in \u001b[0;36mcreate_from_dict\u001b[0;34m(k8s_client, data, verbose, namespace, **kwargs)\u001b[0m\n\u001b[1;32m    143\u001b[0m \u001b[39melse\u001b[39;00m:\n\u001b[1;32m    144\u001b[0m     \u001b[39m# This is a single object. Call the single item method\u001b[39;00m\n\u001b[1;32m    145\u001b[0m     \u001b[39mtry\u001b[39;00m:\n\u001b[0;32m--> 146\u001b[0m         created \u001b[39m=\u001b[39m create_from_yaml_single_item(\n\u001b[1;32m    147\u001b[0m             k8s_client, data, verbose, namespace\u001b[39m=\u001b[39;49mnamespace, \u001b[39m*\u001b[39;49m\u001b[39m*\u001b[39;49mkwargs)\n\u001b[1;32m    148\u001b[0m         k8s_objects\u001b[39m.\u001b[39mappend(created)\n\u001b[1;32m    149\u001b[0m     \u001b[39mexcept\u001b[39;00m client\u001b[39m.\u001b[39mrest\u001b[39m.\u001b[39mApiException \u001b[39mas\u001b[39;00m api_exception:\n",
      "File \u001b[0;32m/opt/homebrew/lib/python3.10/site-packages/kubernetes/utils/create_from_yaml.py:172\u001b[0m, in \u001b[0;36mcreate_from_yaml_single_item\u001b[0;34m(k8s_client, yml_object, verbose, **kwargs)\u001b[0m\n\u001b[1;32m    170\u001b[0m group \u001b[39m=\u001b[39m \u001b[39m\"\u001b[39m\u001b[39m\"\u001b[39m\u001b[39m.\u001b[39mjoin(word\u001b[39m.\u001b[39mcapitalize() \u001b[39mfor\u001b[39;00m word \u001b[39min\u001b[39;00m group\u001b[39m.\u001b[39msplit(\u001b[39m'\u001b[39m\u001b[39m.\u001b[39m\u001b[39m'\u001b[39m))\n\u001b[1;32m    171\u001b[0m fcn_to_call \u001b[39m=\u001b[39m \u001b[39m\"\u001b[39m\u001b[39m{0}\u001b[39;00m\u001b[39m{1}\u001b[39;00m\u001b[39mApi\u001b[39m\u001b[39m\"\u001b[39m\u001b[39m.\u001b[39mformat(group, version\u001b[39m.\u001b[39mcapitalize())\n\u001b[0;32m--> 172\u001b[0m k8s_api \u001b[39m=\u001b[39m \u001b[39mgetattr\u001b[39;49m(client, fcn_to_call)(k8s_client)\n\u001b[1;32m    173\u001b[0m \u001b[39m# Replace CamelCased action_type into snake_case\u001b[39;00m\n\u001b[1;32m    174\u001b[0m kind \u001b[39m=\u001b[39m yml_object[\u001b[39m\"\u001b[39m\u001b[39mkind\u001b[39m\u001b[39m\"\u001b[39m]\n",
      "\u001b[0;31mAttributeError\u001b[0m: module 'kubernetes.client' has no attribute 'BatchVolcanoShV1alpha1Api'"
     ]
    }
   ],
   "source": [
    "config.load_kube_config()\n",
    "k8s_client = client.ApiClient() \n",
    "yaml_file = './vcjob.yaml'\n",
    "utils.create_from_yaml(k8s_client,yaml_file,verbose=True)"
   ]
  },
  {
   "attachments": {},
   "cell_type": "markdown",
   "metadata": {},
   "source": [
    "# Kubernetes CRD Client"
   ]
  },
  {
   "cell_type": "code",
   "execution_count": 8,
   "metadata": {},
   "outputs": [],
   "source": [
    "volcano_job_body = {\n",
    "    \"apiVersion\": \"batch.volcano.sh/v1alpha1\",\n",
    "    \"kind\": \"Job\",\n",
    "    \"metadata\": {\n",
    "        \"name\": \"test-job\"\n",
    "    },\n",
    "    \"spec\": {\n",
    "        \"schedulerName\": \"volcano\",\n",
    "        \"priorityClassName\": \"h-priority\",\n",
    "        \"policies\": [\n",
    "            {\n",
    "                \"event\": \"PodEvicted\",\n",
    "                \"action\": \"RestartJob\"\n",
    "            }\n",
    "        ],\n",
    "        \"maxRetry\": 5,\n",
    "        \"tasks\": [\n",
    "            {\n",
    "                \"name\": \"default-nginx\",\n",
    "                \"template\": {\n",
    "                    \"metadata\": {\n",
    "                        \"name\": \"web\"\n",
    "                    },\n",
    "                    \"spec\": {\n",
    "                        \"containers\": [\n",
    "                            {\n",
    "                                \"image\": \"nginx\",\n",
    "                                \"imagePullPolicy\": \"IfNotPresent\",\n",
    "                                \"name\": \"nginx\",\n",
    "                                \"resources\": {\n",
    "                                    \"requests\": {\n",
    "                                        \"cpu\": \"1\"\n",
    "                                    }\n",
    "                                }\n",
    "                            }\n",
    "                        ]\n",
    "                    }\n",
    "                }\n",
    "            }\n",
    "        ]\n",
    "    }\n",
    "}"
   ]
  },
  {
   "cell_type": "code",
   "execution_count": 10,
   "metadata": {},
   "outputs": [
    {
     "name": "stdout",
     "output_type": "stream",
     "text": [
      "Resource Created\n"
     ]
    }
   ],
   "source": [
    "configuration = client.Configuration()\n",
    "api = client.CustomObjectsApi()\n",
    "api.create_namespaced_custom_object(\n",
    "    group=\"batch.volcano.sh\",\n",
    "    version=\"v1alpha1\",\n",
    "    namespace=\"default\",\n",
    "    plural=\"jobs\",\n",
    "    body=volcano_job_body\n",
    ")\n",
    "\n",
    "print(\"Resource Created\")\n",
    "    "
   ]
  },
  {
   "cell_type": "code",
   "execution_count": null,
   "metadata": {},
   "outputs": [],
   "source": []
  }
 ],
 "metadata": {
  "kernelspec": {
   "display_name": "Python 3",
   "language": "python",
   "name": "python3"
  },
  "language_info": {
   "codemirror_mode": {
    "name": "ipython",
    "version": 3
   },
   "file_extension": ".py",
   "mimetype": "text/x-python",
   "name": "python",
   "nbconvert_exporter": "python",
   "pygments_lexer": "ipython3",
   "version": "3.10.10"
  },
  "orig_nbformat": 4
 },
 "nbformat": 4,
 "nbformat_minor": 2
}
