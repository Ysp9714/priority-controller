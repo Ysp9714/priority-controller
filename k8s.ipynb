{
 "cells": [
  {
   "cell_type": "code",
   "execution_count": 13,
   "metadata": {},
   "outputs": [],
   "source": [
    "from kubernetes import client, config,utils\n",
    "import pprint"
   ]
  },
  {
   "attachments": {},
   "cell_type": "markdown",
   "metadata": {},
   "source": [
    "# Kubernete Api Client\n"
   ]
  },
  {
   "cell_type": "code",
   "execution_count": 5,
   "metadata": {},
   "outputs": [
    {
     "ename": "AttributeError",
     "evalue": "module 'kubernetes.client' has no attribute 'BatchVolcanoShV1alpha1Api'",
     "output_type": "error",
     "traceback": [
      "\u001b[0;31m---------------------------------------------------------------------------\u001b[0m",
      "\u001b[0;31mAttributeError\u001b[0m                            Traceback (most recent call last)",
      "\u001b[1;32m/Users/gimgihun/priority-controller/k8s.ipynb 셀 2\u001b[0m in \u001b[0;36m5\n\u001b[1;32m      <a href='vscode-notebook-cell:/Users/gimgihun/priority-controller/k8s.ipynb#W1sZmlsZQ%3D%3D?line=2'>3</a>\u001b[0m api_instance \u001b[39m=\u001b[39m client\u001b[39m.\u001b[39mCustomObjectsApi(k8s_client)\n\u001b[1;32m      <a href='vscode-notebook-cell:/Users/gimgihun/priority-controller/k8s.ipynb#W1sZmlsZQ%3D%3D?line=3'>4</a>\u001b[0m yaml_file \u001b[39m=\u001b[39m \u001b[39m'\u001b[39m\u001b[39m./vcjob.yaml\u001b[39m\u001b[39m'\u001b[39m\n\u001b[0;32m----> <a href='vscode-notebook-cell:/Users/gimgihun/priority-controller/k8s.ipynb#W1sZmlsZQ%3D%3D?line=4'>5</a>\u001b[0m utils\u001b[39m.\u001b[39;49mcreate_from_yaml(api_instance,yaml_file,verbose\u001b[39m=\u001b[39;49m\u001b[39mTrue\u001b[39;49;00m)\n",
      "File \u001b[0;32m/opt/homebrew/lib/python3.10/site-packages/kubernetes/utils/create_from_yaml.py:92\u001b[0m, in \u001b[0;36mcreate_from_yaml\u001b[0;34m(k8s_client, yaml_file, yaml_objects, verbose, namespace, **kwargs)\u001b[0m\n\u001b[1;32m     90\u001b[0m     \u001b[39mwith\u001b[39;00m \u001b[39mopen\u001b[39m(path\u001b[39m.\u001b[39mabspath(yaml_file)) \u001b[39mas\u001b[39;00m f:\n\u001b[1;32m     91\u001b[0m         yml_document_all \u001b[39m=\u001b[39m yaml\u001b[39m.\u001b[39msafe_load_all(f)\n\u001b[0;32m---> 92\u001b[0m         \u001b[39mreturn\u001b[39;00m create_with(yml_document_all)\n\u001b[1;32m     93\u001b[0m \u001b[39melse\u001b[39;00m:\n\u001b[1;32m     94\u001b[0m     \u001b[39mraise\u001b[39;00m \u001b[39mValueError\u001b[39;00m(\n\u001b[1;32m     95\u001b[0m         \u001b[39m'\u001b[39m\u001b[39mOne of `yaml_file` or `yaml_objects` arguments must be provided\u001b[39m\u001b[39m'\u001b[39m)\n",
      "File \u001b[0;32m/opt/homebrew/lib/python3.10/site-packages/kubernetes/utils/create_from_yaml.py:76\u001b[0m, in \u001b[0;36mcreate_from_yaml.<locals>.create_with\u001b[0;34m(objects)\u001b[0m\n\u001b[1;32m     74\u001b[0m     \u001b[39mcontinue\u001b[39;00m\n\u001b[1;32m     75\u001b[0m \u001b[39mtry\u001b[39;00m:\n\u001b[0;32m---> 76\u001b[0m     created \u001b[39m=\u001b[39m create_from_dict(k8s_client, yml_document, verbose,\n\u001b[1;32m     77\u001b[0m                                namespace\u001b[39m=\u001b[39;49mnamespace,\n\u001b[1;32m     78\u001b[0m                                \u001b[39m*\u001b[39;49m\u001b[39m*\u001b[39;49mkwargs)\n\u001b[1;32m     79\u001b[0m     k8s_objects\u001b[39m.\u001b[39mappend(created)\n\u001b[1;32m     80\u001b[0m \u001b[39mexcept\u001b[39;00m FailToCreateError \u001b[39mas\u001b[39;00m failure:\n",
      "File \u001b[0;32m/opt/homebrew/lib/python3.10/site-packages/kubernetes/utils/create_from_yaml.py:146\u001b[0m, in \u001b[0;36mcreate_from_dict\u001b[0;34m(k8s_client, data, verbose, namespace, **kwargs)\u001b[0m\n\u001b[1;32m    143\u001b[0m \u001b[39melse\u001b[39;00m:\n\u001b[1;32m    144\u001b[0m     \u001b[39m# This is a single object. Call the single item method\u001b[39;00m\n\u001b[1;32m    145\u001b[0m     \u001b[39mtry\u001b[39;00m:\n\u001b[0;32m--> 146\u001b[0m         created \u001b[39m=\u001b[39m create_from_yaml_single_item(\n\u001b[1;32m    147\u001b[0m             k8s_client, data, verbose, namespace\u001b[39m=\u001b[39;49mnamespace, \u001b[39m*\u001b[39;49m\u001b[39m*\u001b[39;49mkwargs)\n\u001b[1;32m    148\u001b[0m         k8s_objects\u001b[39m.\u001b[39mappend(created)\n\u001b[1;32m    149\u001b[0m     \u001b[39mexcept\u001b[39;00m client\u001b[39m.\u001b[39mrest\u001b[39m.\u001b[39mApiException \u001b[39mas\u001b[39;00m api_exception:\n",
      "File \u001b[0;32m/opt/homebrew/lib/python3.10/site-packages/kubernetes/utils/create_from_yaml.py:172\u001b[0m, in \u001b[0;36mcreate_from_yaml_single_item\u001b[0;34m(k8s_client, yml_object, verbose, **kwargs)\u001b[0m\n\u001b[1;32m    170\u001b[0m group \u001b[39m=\u001b[39m \u001b[39m\"\u001b[39m\u001b[39m\"\u001b[39m\u001b[39m.\u001b[39mjoin(word\u001b[39m.\u001b[39mcapitalize() \u001b[39mfor\u001b[39;00m word \u001b[39min\u001b[39;00m group\u001b[39m.\u001b[39msplit(\u001b[39m'\u001b[39m\u001b[39m.\u001b[39m\u001b[39m'\u001b[39m))\n\u001b[1;32m    171\u001b[0m fcn_to_call \u001b[39m=\u001b[39m \u001b[39m\"\u001b[39m\u001b[39m{0}\u001b[39;00m\u001b[39m{1}\u001b[39;00m\u001b[39mApi\u001b[39m\u001b[39m\"\u001b[39m\u001b[39m.\u001b[39mformat(group, version\u001b[39m.\u001b[39mcapitalize())\n\u001b[0;32m--> 172\u001b[0m k8s_api \u001b[39m=\u001b[39m \u001b[39mgetattr\u001b[39;49m(client, fcn_to_call)(k8s_client)\n\u001b[1;32m    173\u001b[0m \u001b[39m# Replace CamelCased action_type into snake_case\u001b[39;00m\n\u001b[1;32m    174\u001b[0m kind \u001b[39m=\u001b[39m yml_object[\u001b[39m\"\u001b[39m\u001b[39mkind\u001b[39m\u001b[39m\"\u001b[39m]\n",
      "\u001b[0;31mAttributeError\u001b[0m: module 'kubernetes.client' has no attribute 'BatchVolcanoShV1alpha1Api'"
     ]
    }
   ],
   "source": [
    "config.load_kube_config()\n",
    "k8s_client = client.ApiClient() \n",
    "yaml_file = './vcjob.yaml'\n",
    "utils.create_from_yaml(k8s_client,yaml_file,verbose=True)"
   ]
  },
  {
   "attachments": {},
   "cell_type": "markdown",
   "metadata": {},
   "source": [
    "# Kubernetes CRD Client"
   ]
  },
  {
   "cell_type": "code",
   "execution_count": 14,
   "metadata": {},
   "outputs": [],
   "source": [
    "volcano_job_body = {\n",
    "    \"apiVersion\": \"batch.volcano.sh/v1alpha1\",\n",
    "    \"kind\": \"Job\",\n",
    "    \"metadata\": {\n",
    "        \"name\": \"test-job\"\n",
    "    },\n",
    "    \"spec\": {\n",
    "        \"schedulerName\": \"volcano\",\n",
    "        \"priorityClassName\": \"h-priority\",\n",
    "        \"policies\": [\n",
    "            {\n",
    "                \"event\": \"PodEvicted\",\n",
    "                \"action\": \"RestartJob\"\n",
    "            }\n",
    "        ],\n",
    "        \"maxRetry\": 5,\n",
    "        \"tasks\": [\n",
    "            {\n",
    "                \"name\": \"default-nginx\",\n",
    "                \"template\": {\n",
    "                    \"metadata\": {\n",
    "                        \"name\": \"web\"\n",
    "                    },\n",
    "                    \"spec\": {\n",
    "                        \"containers\": [\n",
    "                            {\n",
    "                                \"image\": \"nginx\",\n",
    "                                \"imagePullPolicy\": \"IfNotPresent\",\n",
    "                                \"name\": \"nginx\",\n",
    "                                \"resources\": {\n",
    "                                    \"requests\": {\n",
    "                                        \"cpu\": \"1\"\n",
    "                                    }\n",
    "                                }\n",
    "                            }\n",
    "                        ]\n",
    "                    }\n",
    "                }\n",
    "            }\n",
    "        ]\n",
    "    }\n",
    "}"
   ]
  },
  {
   "attachments": {},
   "cell_type": "markdown",
   "metadata": {},
   "source": [
    "# CRD Create"
   ]
  },
  {
   "cell_type": "code",
   "execution_count": 8,
   "metadata": {},
   "outputs": [],
   "source": [
    "config.load_kube_config()\n",
    "api = client.CustomObjectsApi()"
   ]
  },
  {
   "attachments": {},
   "cell_type": "markdown",
   "metadata": {},
   "source": [
    "# CRD Get"
   ]
  },
  {
   "cell_type": "code",
   "execution_count": 9,
   "metadata": {},
   "outputs": [],
   "source": [
    "resource = api.get_namespaced_custom_object(\n",
    "    group=\"scheduling.volcano.sh\",\n",
    "    version=\"v1beta1\",\n",
    "    name=\"podgroup-e029423c-dc67-45b9-9f80-ebd941fc1605\",\n",
    "    namespace=\"argo\",\n",
    "    plural=\"podgroups\"\n",
    ")"
   ]
  },
  {
   "cell_type": "code",
   "execution_count": 10,
   "metadata": {},
   "outputs": [
    {
     "name": "stdout",
     "output_type": "stream",
     "text": [
      "{'apiVersion': 'scheduling.volcano.sh/v1beta1',\n",
      " 'kind': 'PodGroup',\n",
      " 'metadata': {'creationTimestamp': '2023-05-30T10:56:45Z',\n",
      "              'generation': 2015,\n",
      "              'managedFields': [{'apiVersion': 'scheduling.volcano.sh/v1beta1',\n",
      "                                 'fieldsType': 'FieldsV1',\n",
      "                                 'fieldsV1': {'f:metadata': {'f:ownerReferences': {'.': {},\n",
      "                                                                                   'k:{\"uid\":\"e029423c-dc67-45b9-9f80-ebd941fc1605\"}': {'.': {},\n",
      "                                                                                                                                        'f:apiVersion': {},\n",
      "                                                                                                                                        'f:blockOwnerDeletion': {},\n",
      "                                                                                                                                        'f:controller': {},\n",
      "                                                                                                                                        'f:kind': {},\n",
      "                                                                                                                                        'f:name': {},\n",
      "                                                                                                                                        'f:uid': {}}}},\n",
      "                                              'f:spec': {'.': {},\n",
      "                                                         'f:minMember': {},\n",
      "                                                         'f:minResources': {'.': {},\n",
      "                                                                            'f:count/pods': {},\n",
      "                                                                            'f:cpu': {},\n",
      "                                                                            'f:pods': {},\n",
      "                                                                            'f:requests.cpu': {}},\n",
      "                                                         'f:priorityClassName': {}},\n",
      "                                              'f:status': {'.': {},\n",
      "                                                           'f:conditions': {},\n",
      "                                                           'f:phase': {},\n",
      "                                                           'f:succeeded': {}}},\n",
      "                                 'manager': 'Go-http-client',\n",
      "                                 'operation': 'Update',\n",
      "                                 'time': '2023-05-30T10:56:53Z'}],\n",
      "              'name': 'podgroup-e029423c-dc67-45b9-9f80-ebd941fc1605',\n",
      "              'namespace': 'argo',\n",
      "              'ownerReferences': [{'apiVersion': 'argoproj.io/v1alpha1',\n",
      "                                   'blockOwnerDeletion': True,\n",
      "                                   'controller': True,\n",
      "                                   'kind': 'Workflow',\n",
      "                                   'name': 'python-test',\n",
      "                                   'uid': 'e029423c-dc67-45b9-9f80-ebd941fc1605'}],\n",
      "              'resourceVersion': '488449',\n",
      "              'uid': '65f730f3-e114-4e0f-9298-fdc53aa0636e'},\n",
      " 'spec': {'minMember': 1,\n",
      "          'minResources': {'count/pods': '1',\n",
      "                           'cpu': '2',\n",
      "                           'pods': '1',\n",
      "                           'requests.cpu': '2'},\n",
      "          'priorityClassName': 'h-priority',\n",
      "          'queue': 'default'},\n",
      " 'status': {'conditions': [{'lastTransitionTime': '2023-06-01T01:16:05Z',\n",
      "                            'reason': 'tasks in gang are ready to be scheduled',\n",
      "                            'status': 'True',\n",
      "                            'transitionID': 'c7e0b897-f385-4bac-865c-03498f5ba325',\n",
      "                            'type': 'Scheduled'}],\n",
      "            'phase': 'Completed',\n",
      "            'succeeded': 1}}\n"
     ]
    }
   ],
   "source": [
    "import pprint \n",
    "pprint.pprint(resource)"
   ]
  },
  {
   "attachments": {},
   "cell_type": "markdown",
   "metadata": {},
   "source": [
    "# CRD Information"
   ]
  },
  {
   "cell_type": "code",
   "execution_count": 11,
   "metadata": {},
   "outputs": [],
   "source": [
    "status = resource['status']['phase'] # 상태\n",
    "priorityClassName = resource['spec']['priorityClassName'] # penalty value\n",
    "queue = resource['spec']['queue'] # queue"
   ]
  },
  {
   "attachments": {},
   "cell_type": "markdown",
   "metadata": {},
   "source": [
    "# Volcano 스케줄러 사이클\n",
    "\n",
    "1. Kubeflow에서 pipeline을 돌림  \n",
    "2. Argo workflow 형태로 작업이 시작됨  \n",
    "    - workflow 형태는 시작되면 Active 완료시 Succeeded 상태가 됨  \n",
    "3. schedulerName과 podPriorityClassName, queue 정보 등을 기입함  \n",
    "4. 생성된 workflow는 지정한 queue에 podgroup의 crd 형태로 시작된다.  \n",
    "5. 완료된 podgroup은 삭제되지 않는다.\n",
    "    - podgroup은 namespace, queue별로 지정되서 들어간다.\n",
    "    - 이걸 활용해서 penalty를 계산해야하나?  \n",
    "6. 패널티 계산 로직에 따라 패널티를 계산하고 완화한다.\n",
    "    - 패널티는 priorityclass의 value를 통해 계산한다."
   ]
  },
  {
   "attachments": {},
   "cell_type": "markdown",
   "metadata": {},
   "source": [
    "# PriorityClassName GET"
   ]
  },
  {
   "cell_type": "code",
   "execution_count": 12,
   "metadata": {},
   "outputs": [],
   "source": [
    "priorityClassResource = api.get_cluster_custom_object(\n",
    "    group=\"scheduling.k8s.io\",\n",
    "    version=\"v1\",\n",
    "    name=\"h-priority\",\n",
    "    plural=\"priorityclasses\"\n",
    ")"
   ]
  },
  {
   "cell_type": "code",
   "execution_count": 14,
   "metadata": {},
   "outputs": [
    {
     "name": "stdout",
     "output_type": "stream",
     "text": [
      "{'apiVersion': 'scheduling.k8s.io/v1',\n",
      " 'kind': 'PriorityClass',\n",
      " 'metadata': {'creationTimestamp': '2023-05-26T06:44:33Z',\n",
      "              'generation': 1,\n",
      "              'managedFields': [{'apiVersion': 'scheduling.k8s.io/v1',\n",
      "                                 'fieldsType': 'FieldsV1',\n",
      "                                 'fieldsV1': {'f:preemptionPolicy': {},\n",
      "                                              'f:value': {}},\n",
      "                                 'manager': 'OpenAPI-Generator',\n",
      "                                 'operation': 'Update',\n",
      "                                 'time': '2023-05-26T06:44:33Z'}],\n",
      "              'name': 'h-priority',\n",
      "              'resourceVersion': '15476',\n",
      "              'uid': 'bfbe9c75-151e-43e7-90b8-2d23fca8ce9a'},\n",
      " 'preemptionPolicy': 'PreemptLowerPriority',\n",
      " 'value': 1000}\n"
     ]
    }
   ],
   "source": [
    "pprint.pprint(priorityClassResource)"
   ]
  },
  {
   "cell_type": "code",
   "execution_count": 18,
   "metadata": {},
   "outputs": [
    {
     "data": {
      "text/plain": [
       "1000"
      ]
     },
     "execution_count": 18,
     "metadata": {},
     "output_type": "execute_result"
    }
   ],
   "source": [
    "penaltyValue = priorityClassResource['value']\n",
    "\n",
    "penaltyValue"
   ]
  },
  {
   "cell_type": "code",
   "execution_count": 17,
   "metadata": {},
   "outputs": [],
   "source": [
    "value_patch = {\n",
    "    \"value\": \"1001\"\n",
    "}"
   ]
  },
  {
   "cell_type": "code",
   "execution_count": 19,
   "metadata": {},
   "outputs": [],
   "source": [
    "priority_body = {\n",
    "    \"apiVersion\": \"scheduling.k8s.io/v1\",\n",
    "    \"kind\": \"PriorityClass\",\n",
    "    \"metadata\": {\"name\" : \"high-priority\"},\n",
    "    \"preemptionPolicy\": \"PreemptLowerPriority\",\n",
    "    \"value\" : \"10001\"\n",
    "}"
   ]
  },
  {
   "cell_type": "code",
   "execution_count": 26,
   "metadata": {},
   "outputs": [
    {
     "ename": "ApiException",
     "evalue": "(400)\nReason: Bad Request\nHTTP response headers: HTTPHeaderDict({'Cache-Control': 'no-cache, private', 'Content-Type': 'application/json', 'X-Kubernetes-Pf-Flowschema-Uid': 'd7846aa7-2000-49fb-81f3-7f033dd11d7e', 'X-Kubernetes-Pf-Prioritylevel-Uid': '99e29715-90d7-43c1-b132-98f418952660', 'Date': 'Thu, 01 Jun 2023 04:05:57 GMT', 'Content-Length': '396'})\nHTTP response body: {\"kind\":\"Status\",\"apiVersion\":\"v1\",\"metadata\":{},\"status\":\"Failure\",\"message\":\"PriorityClass in version \\\"v1\\\" cannot be handled as a PriorityClass: v1.PriorityClass.Value: readUint32: unexpected character: \\ufffd, error found in #10 byte of ...|\\\"value\\\": \\\"10001\\\"}|..., bigger context ...|emptionPolicy\\\": \\\"PreemptLowerPriority\\\", \\\"value\\\": \\\"10001\\\"}|...\",\"reason\":\"BadRequest\",\"code\":400}\n\n",
     "output_type": "error",
     "traceback": [
      "\u001b[0;31m---------------------------------------------------------------------------\u001b[0m",
      "\u001b[0;31mApiException\u001b[0m                              Traceback (most recent call last)",
      "\u001b[1;32m/Users/gimgihun/priority-controller/k8s.ipynb 셀 20\u001b[0m in \u001b[0;36m1\n\u001b[0;32m----> <a href='vscode-notebook-cell:/Users/gimgihun/priority-controller/k8s.ipynb#X36sZmlsZQ%3D%3D?line=0'>1</a>\u001b[0m created_resource \u001b[39m=\u001b[39m api\u001b[39m.\u001b[39;49mcreate_cluster_custom_object(\n\u001b[1;32m      <a href='vscode-notebook-cell:/Users/gimgihun/priority-controller/k8s.ipynb#X36sZmlsZQ%3D%3D?line=1'>2</a>\u001b[0m     group\u001b[39m=\u001b[39;49m\u001b[39m\"\u001b[39;49m\u001b[39mscheduling.k8s.io\u001b[39;49m\u001b[39m\"\u001b[39;49m,\n\u001b[1;32m      <a href='vscode-notebook-cell:/Users/gimgihun/priority-controller/k8s.ipynb#X36sZmlsZQ%3D%3D?line=2'>3</a>\u001b[0m     version\u001b[39m=\u001b[39;49m\u001b[39m\"\u001b[39;49m\u001b[39mv1\u001b[39;49m\u001b[39m\"\u001b[39;49m,\n\u001b[1;32m      <a href='vscode-notebook-cell:/Users/gimgihun/priority-controller/k8s.ipynb#X36sZmlsZQ%3D%3D?line=3'>4</a>\u001b[0m     plural\u001b[39m=\u001b[39;49m\u001b[39m\"\u001b[39;49m\u001b[39mpriorityclasses\u001b[39;49m\u001b[39m\"\u001b[39;49m,\n\u001b[1;32m      <a href='vscode-notebook-cell:/Users/gimgihun/priority-controller/k8s.ipynb#X36sZmlsZQ%3D%3D?line=4'>5</a>\u001b[0m     body\u001b[39m=\u001b[39;49mpriority_body\n\u001b[1;32m      <a href='vscode-notebook-cell:/Users/gimgihun/priority-controller/k8s.ipynb#X36sZmlsZQ%3D%3D?line=5'>6</a>\u001b[0m )\n",
      "File \u001b[0;32m/opt/homebrew/lib/python3.10/site-packages/kubernetes/client/api/custom_objects_api.py:68\u001b[0m, in \u001b[0;36mCustomObjectsApi.create_cluster_custom_object\u001b[0;34m(self, group, version, plural, body, **kwargs)\u001b[0m\n\u001b[1;32m     40\u001b[0m \u001b[39m\"\"\"create_cluster_custom_object  # noqa: E501\u001b[39;00m\n\u001b[1;32m     41\u001b[0m \n\u001b[1;32m     42\u001b[0m \u001b[39mCreates a cluster scoped Custom object  # noqa: E501\u001b[39;00m\n\u001b[0;32m   (...)\u001b[0m\n\u001b[1;32m     65\u001b[0m \u001b[39m         returns the request thread.\u001b[39;00m\n\u001b[1;32m     66\u001b[0m \u001b[39m\"\"\"\u001b[39;00m\n\u001b[1;32m     67\u001b[0m kwargs[\u001b[39m'\u001b[39m\u001b[39m_return_http_data_only\u001b[39m\u001b[39m'\u001b[39m] \u001b[39m=\u001b[39m \u001b[39mTrue\u001b[39;00m\n\u001b[0;32m---> 68\u001b[0m \u001b[39mreturn\u001b[39;00m \u001b[39mself\u001b[39;49m\u001b[39m.\u001b[39;49mcreate_cluster_custom_object_with_http_info(group, version, plural, body, \u001b[39m*\u001b[39;49m\u001b[39m*\u001b[39;49mkwargs)\n",
      "File \u001b[0;32m/opt/homebrew/lib/python3.10/site-packages/kubernetes/client/api/custom_objects_api.py:179\u001b[0m, in \u001b[0;36mCustomObjectsApi.create_cluster_custom_object_with_http_info\u001b[0;34m(self, group, version, plural, body, **kwargs)\u001b[0m\n\u001b[1;32m    176\u001b[0m \u001b[39m# Authentication setting\u001b[39;00m\n\u001b[1;32m    177\u001b[0m auth_settings \u001b[39m=\u001b[39m [\u001b[39m'\u001b[39m\u001b[39mBearerToken\u001b[39m\u001b[39m'\u001b[39m]  \u001b[39m# noqa: E501\u001b[39;00m\n\u001b[0;32m--> 179\u001b[0m \u001b[39mreturn\u001b[39;00m \u001b[39mself\u001b[39;49m\u001b[39m.\u001b[39;49mapi_client\u001b[39m.\u001b[39;49mcall_api(\n\u001b[1;32m    180\u001b[0m     \u001b[39m'\u001b[39;49m\u001b[39m/apis/\u001b[39;49m\u001b[39m{group}\u001b[39;49;00m\u001b[39m/\u001b[39;49m\u001b[39m{version}\u001b[39;49;00m\u001b[39m/\u001b[39;49m\u001b[39m{plural}\u001b[39;49;00m\u001b[39m'\u001b[39;49m, \u001b[39m'\u001b[39;49m\u001b[39mPOST\u001b[39;49m\u001b[39m'\u001b[39;49m,\n\u001b[1;32m    181\u001b[0m     path_params,\n\u001b[1;32m    182\u001b[0m     query_params,\n\u001b[1;32m    183\u001b[0m     header_params,\n\u001b[1;32m    184\u001b[0m     body\u001b[39m=\u001b[39;49mbody_params,\n\u001b[1;32m    185\u001b[0m     post_params\u001b[39m=\u001b[39;49mform_params,\n\u001b[1;32m    186\u001b[0m     files\u001b[39m=\u001b[39;49mlocal_var_files,\n\u001b[1;32m    187\u001b[0m     response_type\u001b[39m=\u001b[39;49m\u001b[39m'\u001b[39;49m\u001b[39mobject\u001b[39;49m\u001b[39m'\u001b[39;49m,  \u001b[39m# noqa: E501\u001b[39;49;00m\n\u001b[1;32m    188\u001b[0m     auth_settings\u001b[39m=\u001b[39;49mauth_settings,\n\u001b[1;32m    189\u001b[0m     async_req\u001b[39m=\u001b[39;49mlocal_var_params\u001b[39m.\u001b[39;49mget(\u001b[39m'\u001b[39;49m\u001b[39masync_req\u001b[39;49m\u001b[39m'\u001b[39;49m),\n\u001b[1;32m    190\u001b[0m     _return_http_data_only\u001b[39m=\u001b[39;49mlocal_var_params\u001b[39m.\u001b[39;49mget(\u001b[39m'\u001b[39;49m\u001b[39m_return_http_data_only\u001b[39;49m\u001b[39m'\u001b[39;49m),  \u001b[39m# noqa: E501\u001b[39;49;00m\n\u001b[1;32m    191\u001b[0m     _preload_content\u001b[39m=\u001b[39;49mlocal_var_params\u001b[39m.\u001b[39;49mget(\u001b[39m'\u001b[39;49m\u001b[39m_preload_content\u001b[39;49m\u001b[39m'\u001b[39;49m, \u001b[39mTrue\u001b[39;49;00m),\n\u001b[1;32m    192\u001b[0m     _request_timeout\u001b[39m=\u001b[39;49mlocal_var_params\u001b[39m.\u001b[39;49mget(\u001b[39m'\u001b[39;49m\u001b[39m_request_timeout\u001b[39;49m\u001b[39m'\u001b[39;49m),\n\u001b[1;32m    193\u001b[0m     collection_formats\u001b[39m=\u001b[39;49mcollection_formats)\n",
      "File \u001b[0;32m/opt/homebrew/lib/python3.10/site-packages/kubernetes/client/api_client.py:348\u001b[0m, in \u001b[0;36mApiClient.call_api\u001b[0;34m(self, resource_path, method, path_params, query_params, header_params, body, post_params, files, response_type, auth_settings, async_req, _return_http_data_only, collection_formats, _preload_content, _request_timeout, _host)\u001b[0m\n\u001b[1;32m    311\u001b[0m \u001b[39m\"\"\"Makes the HTTP request (synchronous) and returns deserialized data.\u001b[39;00m\n\u001b[1;32m    312\u001b[0m \n\u001b[1;32m    313\u001b[0m \u001b[39mTo make an async_req request, set the async_req parameter.\u001b[39;00m\n\u001b[0;32m   (...)\u001b[0m\n\u001b[1;32m    345\u001b[0m \u001b[39m    then the method will return the response directly.\u001b[39;00m\n\u001b[1;32m    346\u001b[0m \u001b[39m\"\"\"\u001b[39;00m\n\u001b[1;32m    347\u001b[0m \u001b[39mif\u001b[39;00m \u001b[39mnot\u001b[39;00m async_req:\n\u001b[0;32m--> 348\u001b[0m     \u001b[39mreturn\u001b[39;00m \u001b[39mself\u001b[39;49m\u001b[39m.\u001b[39;49m__call_api(resource_path, method,\n\u001b[1;32m    349\u001b[0m                            path_params, query_params, header_params,\n\u001b[1;32m    350\u001b[0m                            body, post_params, files,\n\u001b[1;32m    351\u001b[0m                            response_type, auth_settings,\n\u001b[1;32m    352\u001b[0m                            _return_http_data_only, collection_formats,\n\u001b[1;32m    353\u001b[0m                            _preload_content, _request_timeout, _host)\n\u001b[1;32m    355\u001b[0m \u001b[39mreturn\u001b[39;00m \u001b[39mself\u001b[39m\u001b[39m.\u001b[39mpool\u001b[39m.\u001b[39mapply_async(\u001b[39mself\u001b[39m\u001b[39m.\u001b[39m__call_api, (resource_path,\n\u001b[1;32m    356\u001b[0m                                                method, path_params,\n\u001b[1;32m    357\u001b[0m                                                query_params,\n\u001b[0;32m   (...)\u001b[0m\n\u001b[1;32m    365\u001b[0m                                                _request_timeout,\n\u001b[1;32m    366\u001b[0m                                                _host))\n",
      "File \u001b[0;32m/opt/homebrew/lib/python3.10/site-packages/kubernetes/client/api_client.py:180\u001b[0m, in \u001b[0;36mApiClient.__call_api\u001b[0;34m(self, resource_path, method, path_params, query_params, header_params, body, post_params, files, response_type, auth_settings, _return_http_data_only, collection_formats, _preload_content, _request_timeout, _host)\u001b[0m\n\u001b[1;32m    177\u001b[0m     url \u001b[39m=\u001b[39m _host \u001b[39m+\u001b[39m resource_path\n\u001b[1;32m    179\u001b[0m \u001b[39m# perform request and return response\u001b[39;00m\n\u001b[0;32m--> 180\u001b[0m response_data \u001b[39m=\u001b[39m \u001b[39mself\u001b[39;49m\u001b[39m.\u001b[39;49mrequest(\n\u001b[1;32m    181\u001b[0m     method, url, query_params\u001b[39m=\u001b[39;49mquery_params, headers\u001b[39m=\u001b[39;49mheader_params,\n\u001b[1;32m    182\u001b[0m     post_params\u001b[39m=\u001b[39;49mpost_params, body\u001b[39m=\u001b[39;49mbody,\n\u001b[1;32m    183\u001b[0m     _preload_content\u001b[39m=\u001b[39;49m_preload_content,\n\u001b[1;32m    184\u001b[0m     _request_timeout\u001b[39m=\u001b[39;49m_request_timeout)\n\u001b[1;32m    186\u001b[0m \u001b[39mself\u001b[39m\u001b[39m.\u001b[39mlast_response \u001b[39m=\u001b[39m response_data\n\u001b[1;32m    188\u001b[0m return_data \u001b[39m=\u001b[39m response_data\n",
      "File \u001b[0;32m/opt/homebrew/lib/python3.10/site-packages/kubernetes/client/api_client.py:391\u001b[0m, in \u001b[0;36mApiClient.request\u001b[0;34m(self, method, url, query_params, headers, post_params, body, _preload_content, _request_timeout)\u001b[0m\n\u001b[1;32m    385\u001b[0m     \u001b[39mreturn\u001b[39;00m \u001b[39mself\u001b[39m\u001b[39m.\u001b[39mrest_client\u001b[39m.\u001b[39mOPTIONS(url,\n\u001b[1;32m    386\u001b[0m                                     query_params\u001b[39m=\u001b[39mquery_params,\n\u001b[1;32m    387\u001b[0m                                     headers\u001b[39m=\u001b[39mheaders,\n\u001b[1;32m    388\u001b[0m                                     _preload_content\u001b[39m=\u001b[39m_preload_content,\n\u001b[1;32m    389\u001b[0m                                     _request_timeout\u001b[39m=\u001b[39m_request_timeout)\n\u001b[1;32m    390\u001b[0m \u001b[39melif\u001b[39;00m method \u001b[39m==\u001b[39m \u001b[39m\"\u001b[39m\u001b[39mPOST\u001b[39m\u001b[39m\"\u001b[39m:\n\u001b[0;32m--> 391\u001b[0m     \u001b[39mreturn\u001b[39;00m \u001b[39mself\u001b[39;49m\u001b[39m.\u001b[39;49mrest_client\u001b[39m.\u001b[39;49mPOST(url,\n\u001b[1;32m    392\u001b[0m                                  query_params\u001b[39m=\u001b[39;49mquery_params,\n\u001b[1;32m    393\u001b[0m                                  headers\u001b[39m=\u001b[39;49mheaders,\n\u001b[1;32m    394\u001b[0m                                  post_params\u001b[39m=\u001b[39;49mpost_params,\n\u001b[1;32m    395\u001b[0m                                  _preload_content\u001b[39m=\u001b[39;49m_preload_content,\n\u001b[1;32m    396\u001b[0m                                  _request_timeout\u001b[39m=\u001b[39;49m_request_timeout,\n\u001b[1;32m    397\u001b[0m                                  body\u001b[39m=\u001b[39;49mbody)\n\u001b[1;32m    398\u001b[0m \u001b[39melif\u001b[39;00m method \u001b[39m==\u001b[39m \u001b[39m\"\u001b[39m\u001b[39mPUT\u001b[39m\u001b[39m\"\u001b[39m:\n\u001b[1;32m    399\u001b[0m     \u001b[39mreturn\u001b[39;00m \u001b[39mself\u001b[39m\u001b[39m.\u001b[39mrest_client\u001b[39m.\u001b[39mPUT(url,\n\u001b[1;32m    400\u001b[0m                                 query_params\u001b[39m=\u001b[39mquery_params,\n\u001b[1;32m    401\u001b[0m                                 headers\u001b[39m=\u001b[39mheaders,\n\u001b[0;32m   (...)\u001b[0m\n\u001b[1;32m    404\u001b[0m                                 _request_timeout\u001b[39m=\u001b[39m_request_timeout,\n\u001b[1;32m    405\u001b[0m                                 body\u001b[39m=\u001b[39mbody)\n",
      "File \u001b[0;32m/opt/homebrew/lib/python3.10/site-packages/kubernetes/client/rest.py:275\u001b[0m, in \u001b[0;36mRESTClientObject.POST\u001b[0;34m(self, url, headers, query_params, post_params, body, _preload_content, _request_timeout)\u001b[0m\n\u001b[1;32m    273\u001b[0m \u001b[39mdef\u001b[39;00m \u001b[39mPOST\u001b[39m(\u001b[39mself\u001b[39m, url, headers\u001b[39m=\u001b[39m\u001b[39mNone\u001b[39;00m, query_params\u001b[39m=\u001b[39m\u001b[39mNone\u001b[39;00m, post_params\u001b[39m=\u001b[39m\u001b[39mNone\u001b[39;00m,\n\u001b[1;32m    274\u001b[0m          body\u001b[39m=\u001b[39m\u001b[39mNone\u001b[39;00m, _preload_content\u001b[39m=\u001b[39m\u001b[39mTrue\u001b[39;00m, _request_timeout\u001b[39m=\u001b[39m\u001b[39mNone\u001b[39;00m):\n\u001b[0;32m--> 275\u001b[0m     \u001b[39mreturn\u001b[39;00m \u001b[39mself\u001b[39;49m\u001b[39m.\u001b[39;49mrequest(\u001b[39m\"\u001b[39;49m\u001b[39mPOST\u001b[39;49m\u001b[39m\"\u001b[39;49m, url,\n\u001b[1;32m    276\u001b[0m                         headers\u001b[39m=\u001b[39;49mheaders,\n\u001b[1;32m    277\u001b[0m                         query_params\u001b[39m=\u001b[39;49mquery_params,\n\u001b[1;32m    278\u001b[0m                         post_params\u001b[39m=\u001b[39;49mpost_params,\n\u001b[1;32m    279\u001b[0m                         _preload_content\u001b[39m=\u001b[39;49m_preload_content,\n\u001b[1;32m    280\u001b[0m                         _request_timeout\u001b[39m=\u001b[39;49m_request_timeout,\n\u001b[1;32m    281\u001b[0m                         body\u001b[39m=\u001b[39;49mbody)\n",
      "File \u001b[0;32m/opt/homebrew/lib/python3.10/site-packages/kubernetes/client/rest.py:234\u001b[0m, in \u001b[0;36mRESTClientObject.request\u001b[0;34m(self, method, url, query_params, headers, body, post_params, _preload_content, _request_timeout)\u001b[0m\n\u001b[1;32m    231\u001b[0m     logger\u001b[39m.\u001b[39mdebug(\u001b[39m\"\u001b[39m\u001b[39mresponse body: \u001b[39m\u001b[39m%s\u001b[39;00m\u001b[39m\"\u001b[39m, r\u001b[39m.\u001b[39mdata)\n\u001b[1;32m    233\u001b[0m \u001b[39mif\u001b[39;00m \u001b[39mnot\u001b[39;00m \u001b[39m200\u001b[39m \u001b[39m<\u001b[39m\u001b[39m=\u001b[39m r\u001b[39m.\u001b[39mstatus \u001b[39m<\u001b[39m\u001b[39m=\u001b[39m \u001b[39m299\u001b[39m:\n\u001b[0;32m--> 234\u001b[0m     \u001b[39mraise\u001b[39;00m ApiException(http_resp\u001b[39m=\u001b[39mr)\n\u001b[1;32m    236\u001b[0m \u001b[39mreturn\u001b[39;00m r\n",
      "\u001b[0;31mApiException\u001b[0m: (400)\nReason: Bad Request\nHTTP response headers: HTTPHeaderDict({'Cache-Control': 'no-cache, private', 'Content-Type': 'application/json', 'X-Kubernetes-Pf-Flowschema-Uid': 'd7846aa7-2000-49fb-81f3-7f033dd11d7e', 'X-Kubernetes-Pf-Prioritylevel-Uid': '99e29715-90d7-43c1-b132-98f418952660', 'Date': 'Thu, 01 Jun 2023 04:05:57 GMT', 'Content-Length': '396'})\nHTTP response body: {\"kind\":\"Status\",\"apiVersion\":\"v1\",\"metadata\":{},\"status\":\"Failure\",\"message\":\"PriorityClass in version \\\"v1\\\" cannot be handled as a PriorityClass: v1.PriorityClass.Value: readUint32: unexpected character: \\ufffd, error found in #10 byte of ...|\\\"value\\\": \\\"10001\\\"}|..., bigger context ...|emptionPolicy\\\": \\\"PreemptLowerPriority\\\", \\\"value\\\": \\\"10001\\\"}|...\",\"reason\":\"BadRequest\",\"code\":400}\n\n"
     ]
    }
   ],
   "source": [
    "created_resource = api.create_cluster_custom_object(\n",
    "    group=\"scheduling.k8s.io\",\n",
    "    version=\"v1\",\n",
    "    plural=\"priorityclasses\",\n",
    "    body=priority_body\n",
    ")"
   ]
  },
  {
   "cell_type": "code",
   "execution_count": 20,
   "metadata": {},
   "outputs": [
    {
     "ename": "ApiException",
     "evalue": "(422)\nReason: Unprocessable Entity\nHTTP response headers: HTTPHeaderDict({'Cache-Control': 'no-cache, private', 'Content-Type': 'application/json', 'X-Kubernetes-Pf-Flowschema-Uid': 'd7846aa7-2000-49fb-81f3-7f033dd11d7e', 'X-Kubernetes-Pf-Prioritylevel-Uid': '99e29715-90d7-43c1-b132-98f418952660', 'Date': 'Thu, 01 Jun 2023 01:19:54 GMT', 'Content-Length': '2044'})\nHTTP response body: {\"kind\":\"Status\",\"apiVersion\":\"v1\",\"metadata\":{},\"status\":\"Failure\",\"message\":\" \\\"\\\" is invalid: patch: Invalid value: \\\"{\\\\\\\"apiVersion\\\\\\\":\\\\\\\"scheduling.k8s.io/v1\\\\\\\",\\\\\\\"kind\\\\\\\":\\\\\\\"PriorityClass\\\\\\\",\\\\\\\"metadata\\\\\\\":{\\\\\\\"name\\\\\\\":\\\\\\\"h-priority\\\\\\\",\\\\\\\"uid\\\\\\\":\\\\\\\"bfbe9c75-151e-43e7-90b8-2d23fca8ce9a\\\\\\\",\\\\\\\"resourceVersion\\\\\\\":\\\\\\\"15476\\\\\\\",\\\\\\\"generation\\\\\\\":1,\\\\\\\"creationTimestamp\\\\\\\":\\\\\\\"2023-05-26T06:44:33Z\\\\\\\",\\\\\\\"managedFields\\\\\\\":[{\\\\\\\"manager\\\\\\\":\\\\\\\"OpenAPI-Generator\\\\\\\",\\\\\\\"operation\\\\\\\":\\\\\\\"Update\\\\\\\",\\\\\\\"apiVersion\\\\\\\":\\\\\\\"scheduling.k8s.io/v1\\\\\\\",\\\\\\\"time\\\\\\\":\\\\\\\"2023-05-26T06:44:33Z\\\\\\\",\\\\\\\"fieldsType\\\\\\\":\\\\\\\"FieldsV1\\\\\\\",\\\\\\\"fieldsV1\\\\\\\":{\\\\\\\"f:preemptionPolicy\\\\\\\":{},\\\\\\\"f:value\\\\\\\":{}}}]},\\\\\\\"preemptionPolicy\\\\\\\":\\\\\\\"PreemptLowerPriority\\\\\\\",\\\\\\\"value\\\\\\\":\\\\\\\"1001\\\\\\\"}\\\": v1.PriorityClass.Value: readUint32: unexpected character: \\ufffd, error found in #10 byte of ...|,\\\"value\\\":\\\"1001\\\"}|..., bigger context ...|preemptionPolicy\\\":\\\"PreemptLowerPriority\\\",\\\"value\\\":\\\"1001\\\"}|...\",\"reason\":\"Invalid\",\"details\":{\"causes\":[{\"reason\":\"FieldValueInvalid\",\"message\":\"Invalid value: \\\"{\\\\\\\"apiVersion\\\\\\\":\\\\\\\"scheduling.k8s.io/v1\\\\\\\",\\\\\\\"kind\\\\\\\":\\\\\\\"PriorityClass\\\\\\\",\\\\\\\"metadata\\\\\\\":{\\\\\\\"name\\\\\\\":\\\\\\\"h-priority\\\\\\\",\\\\\\\"uid\\\\\\\":\\\\\\\"bfbe9c75-151e-43e7-90b8-2d23fca8ce9a\\\\\\\",\\\\\\\"resourceVersion\\\\\\\":\\\\\\\"15476\\\\\\\",\\\\\\\"generation\\\\\\\":1,\\\\\\\"creationTimestamp\\\\\\\":\\\\\\\"2023-05-26T06:44:33Z\\\\\\\",\\\\\\\"managedFields\\\\\\\":[{\\\\\\\"manager\\\\\\\":\\\\\\\"OpenAPI-Generator\\\\\\\",\\\\\\\"operation\\\\\\\":\\\\\\\"Update\\\\\\\",\\\\\\\"apiVersion\\\\\\\":\\\\\\\"scheduling.k8s.io/v1\\\\\\\",\\\\\\\"time\\\\\\\":\\\\\\\"2023-05-26T06:44:33Z\\\\\\\",\\\\\\\"fieldsType\\\\\\\":\\\\\\\"FieldsV1\\\\\\\",\\\\\\\"fieldsV1\\\\\\\":{\\\\\\\"f:preemptionPolicy\\\\\\\":{},\\\\\\\"f:value\\\\\\\":{}}}]},\\\\\\\"preemptionPolicy\\\\\\\":\\\\\\\"PreemptLowerPriority\\\\\\\",\\\\\\\"value\\\\\\\":\\\\\\\"1001\\\\\\\"}\\\": v1.PriorityClass.Value: readUint32: unexpected character: \\ufffd, error found in #10 byte of ...|,\\\"value\\\":\\\"1001\\\"}|..., bigger context ...|preemptionPolicy\\\":\\\"PreemptLowerPriority\\\",\\\"value\\\":\\\"1001\\\"}|...\",\"field\":\"patch\"}]},\"code\":422}\n\n",
     "output_type": "error",
     "traceback": [
      "\u001b[0;31m---------------------------------------------------------------------------\u001b[0m",
      "\u001b[0;31mApiException\u001b[0m                              Traceback (most recent call last)",
      "\u001b[1;32m/Users/gimgihun/priority-controller/k8s.ipynb 셀 20\u001b[0m in \u001b[0;36m1\n\u001b[0;32m----> <a href='vscode-notebook-cell:/Users/gimgihun/priority-controller/k8s.ipynb#X24sZmlsZQ%3D%3D?line=0'>1</a>\u001b[0m patched_resource \u001b[39m=\u001b[39m api\u001b[39m.\u001b[39;49mpatch_cluster_custom_object(\n\u001b[1;32m      <a href='vscode-notebook-cell:/Users/gimgihun/priority-controller/k8s.ipynb#X24sZmlsZQ%3D%3D?line=1'>2</a>\u001b[0m     group\u001b[39m=\u001b[39;49m\u001b[39m\"\u001b[39;49m\u001b[39mscheduling.k8s.io\u001b[39;49m\u001b[39m\"\u001b[39;49m,\n\u001b[1;32m      <a href='vscode-notebook-cell:/Users/gimgihun/priority-controller/k8s.ipynb#X24sZmlsZQ%3D%3D?line=2'>3</a>\u001b[0m     version\u001b[39m=\u001b[39;49m\u001b[39m\"\u001b[39;49m\u001b[39mv1\u001b[39;49m\u001b[39m\"\u001b[39;49m,\n\u001b[1;32m      <a href='vscode-notebook-cell:/Users/gimgihun/priority-controller/k8s.ipynb#X24sZmlsZQ%3D%3D?line=3'>4</a>\u001b[0m     plural\u001b[39m=\u001b[39;49m\u001b[39m\"\u001b[39;49m\u001b[39mpriorityclasses\u001b[39;49m\u001b[39m\"\u001b[39;49m,\n\u001b[1;32m      <a href='vscode-notebook-cell:/Users/gimgihun/priority-controller/k8s.ipynb#X24sZmlsZQ%3D%3D?line=4'>5</a>\u001b[0m     name\u001b[39m=\u001b[39;49m\u001b[39m\"\u001b[39;49m\u001b[39mh-priority\u001b[39;49m\u001b[39m\"\u001b[39;49m,\n\u001b[1;32m      <a href='vscode-notebook-cell:/Users/gimgihun/priority-controller/k8s.ipynb#X24sZmlsZQ%3D%3D?line=5'>6</a>\u001b[0m     body\u001b[39m=\u001b[39;49mvalue_patch\n\u001b[1;32m      <a href='vscode-notebook-cell:/Users/gimgihun/priority-controller/k8s.ipynb#X24sZmlsZQ%3D%3D?line=6'>7</a>\u001b[0m )\n",
      "File \u001b[0;32m/opt/homebrew/lib/python3.10/site-packages/kubernetes/client/api/custom_objects_api.py:2310\u001b[0m, in \u001b[0;36mCustomObjectsApi.patch_cluster_custom_object\u001b[0;34m(self, group, version, plural, name, body, **kwargs)\u001b[0m\n\u001b[1;32m   2281\u001b[0m \u001b[39m\"\"\"patch_cluster_custom_object  # noqa: E501\u001b[39;00m\n\u001b[1;32m   2282\u001b[0m \n\u001b[1;32m   2283\u001b[0m \u001b[39mpatch the specified cluster scoped custom object  # noqa: E501\u001b[39;00m\n\u001b[0;32m   (...)\u001b[0m\n\u001b[1;32m   2307\u001b[0m \u001b[39m         returns the request thread.\u001b[39;00m\n\u001b[1;32m   2308\u001b[0m \u001b[39m\"\"\"\u001b[39;00m\n\u001b[1;32m   2309\u001b[0m kwargs[\u001b[39m'\u001b[39m\u001b[39m_return_http_data_only\u001b[39m\u001b[39m'\u001b[39m] \u001b[39m=\u001b[39m \u001b[39mTrue\u001b[39;00m\n\u001b[0;32m-> 2310\u001b[0m \u001b[39mreturn\u001b[39;00m \u001b[39mself\u001b[39;49m\u001b[39m.\u001b[39;49mpatch_cluster_custom_object_with_http_info(group, version, plural, name, body, \u001b[39m*\u001b[39;49m\u001b[39m*\u001b[39;49mkwargs)\n",
      "File \u001b[0;32m/opt/homebrew/lib/python3.10/site-packages/kubernetes/client/api/custom_objects_api.py:2433\u001b[0m, in \u001b[0;36mCustomObjectsApi.patch_cluster_custom_object_with_http_info\u001b[0;34m(self, group, version, plural, name, body, **kwargs)\u001b[0m\n\u001b[1;32m   2430\u001b[0m \u001b[39m# Authentication setting\u001b[39;00m\n\u001b[1;32m   2431\u001b[0m auth_settings \u001b[39m=\u001b[39m [\u001b[39m'\u001b[39m\u001b[39mBearerToken\u001b[39m\u001b[39m'\u001b[39m]  \u001b[39m# noqa: E501\u001b[39;00m\n\u001b[0;32m-> 2433\u001b[0m \u001b[39mreturn\u001b[39;00m \u001b[39mself\u001b[39;49m\u001b[39m.\u001b[39;49mapi_client\u001b[39m.\u001b[39;49mcall_api(\n\u001b[1;32m   2434\u001b[0m     \u001b[39m'\u001b[39;49m\u001b[39m/apis/\u001b[39;49m\u001b[39m{group}\u001b[39;49;00m\u001b[39m/\u001b[39;49m\u001b[39m{version}\u001b[39;49;00m\u001b[39m/\u001b[39;49m\u001b[39m{plural}\u001b[39;49;00m\u001b[39m/\u001b[39;49m\u001b[39m{name}\u001b[39;49;00m\u001b[39m'\u001b[39;49m, \u001b[39m'\u001b[39;49m\u001b[39mPATCH\u001b[39;49m\u001b[39m'\u001b[39;49m,\n\u001b[1;32m   2435\u001b[0m     path_params,\n\u001b[1;32m   2436\u001b[0m     query_params,\n\u001b[1;32m   2437\u001b[0m     header_params,\n\u001b[1;32m   2438\u001b[0m     body\u001b[39m=\u001b[39;49mbody_params,\n\u001b[1;32m   2439\u001b[0m     post_params\u001b[39m=\u001b[39;49mform_params,\n\u001b[1;32m   2440\u001b[0m     files\u001b[39m=\u001b[39;49mlocal_var_files,\n\u001b[1;32m   2441\u001b[0m     response_type\u001b[39m=\u001b[39;49m\u001b[39m'\u001b[39;49m\u001b[39mobject\u001b[39;49m\u001b[39m'\u001b[39;49m,  \u001b[39m# noqa: E501\u001b[39;49;00m\n\u001b[1;32m   2442\u001b[0m     auth_settings\u001b[39m=\u001b[39;49mauth_settings,\n\u001b[1;32m   2443\u001b[0m     async_req\u001b[39m=\u001b[39;49mlocal_var_params\u001b[39m.\u001b[39;49mget(\u001b[39m'\u001b[39;49m\u001b[39masync_req\u001b[39;49m\u001b[39m'\u001b[39;49m),\n\u001b[1;32m   2444\u001b[0m     _return_http_data_only\u001b[39m=\u001b[39;49mlocal_var_params\u001b[39m.\u001b[39;49mget(\u001b[39m'\u001b[39;49m\u001b[39m_return_http_data_only\u001b[39;49m\u001b[39m'\u001b[39;49m),  \u001b[39m# noqa: E501\u001b[39;49;00m\n\u001b[1;32m   2445\u001b[0m     _preload_content\u001b[39m=\u001b[39;49mlocal_var_params\u001b[39m.\u001b[39;49mget(\u001b[39m'\u001b[39;49m\u001b[39m_preload_content\u001b[39;49m\u001b[39m'\u001b[39;49m, \u001b[39mTrue\u001b[39;49;00m),\n\u001b[1;32m   2446\u001b[0m     _request_timeout\u001b[39m=\u001b[39;49mlocal_var_params\u001b[39m.\u001b[39;49mget(\u001b[39m'\u001b[39;49m\u001b[39m_request_timeout\u001b[39;49m\u001b[39m'\u001b[39;49m),\n\u001b[1;32m   2447\u001b[0m     collection_formats\u001b[39m=\u001b[39;49mcollection_formats)\n",
      "File \u001b[0;32m/opt/homebrew/lib/python3.10/site-packages/kubernetes/client/api_client.py:348\u001b[0m, in \u001b[0;36mApiClient.call_api\u001b[0;34m(self, resource_path, method, path_params, query_params, header_params, body, post_params, files, response_type, auth_settings, async_req, _return_http_data_only, collection_formats, _preload_content, _request_timeout, _host)\u001b[0m\n\u001b[1;32m    311\u001b[0m \u001b[39m\"\"\"Makes the HTTP request (synchronous) and returns deserialized data.\u001b[39;00m\n\u001b[1;32m    312\u001b[0m \n\u001b[1;32m    313\u001b[0m \u001b[39mTo make an async_req request, set the async_req parameter.\u001b[39;00m\n\u001b[0;32m   (...)\u001b[0m\n\u001b[1;32m    345\u001b[0m \u001b[39m    then the method will return the response directly.\u001b[39;00m\n\u001b[1;32m    346\u001b[0m \u001b[39m\"\"\"\u001b[39;00m\n\u001b[1;32m    347\u001b[0m \u001b[39mif\u001b[39;00m \u001b[39mnot\u001b[39;00m async_req:\n\u001b[0;32m--> 348\u001b[0m     \u001b[39mreturn\u001b[39;00m \u001b[39mself\u001b[39;49m\u001b[39m.\u001b[39;49m__call_api(resource_path, method,\n\u001b[1;32m    349\u001b[0m                            path_params, query_params, header_params,\n\u001b[1;32m    350\u001b[0m                            body, post_params, files,\n\u001b[1;32m    351\u001b[0m                            response_type, auth_settings,\n\u001b[1;32m    352\u001b[0m                            _return_http_data_only, collection_formats,\n\u001b[1;32m    353\u001b[0m                            _preload_content, _request_timeout, _host)\n\u001b[1;32m    355\u001b[0m \u001b[39mreturn\u001b[39;00m \u001b[39mself\u001b[39m\u001b[39m.\u001b[39mpool\u001b[39m.\u001b[39mapply_async(\u001b[39mself\u001b[39m\u001b[39m.\u001b[39m__call_api, (resource_path,\n\u001b[1;32m    356\u001b[0m                                                method, path_params,\n\u001b[1;32m    357\u001b[0m                                                query_params,\n\u001b[0;32m   (...)\u001b[0m\n\u001b[1;32m    365\u001b[0m                                                _request_timeout,\n\u001b[1;32m    366\u001b[0m                                                _host))\n",
      "File \u001b[0;32m/opt/homebrew/lib/python3.10/site-packages/kubernetes/client/api_client.py:180\u001b[0m, in \u001b[0;36mApiClient.__call_api\u001b[0;34m(self, resource_path, method, path_params, query_params, header_params, body, post_params, files, response_type, auth_settings, _return_http_data_only, collection_formats, _preload_content, _request_timeout, _host)\u001b[0m\n\u001b[1;32m    177\u001b[0m     url \u001b[39m=\u001b[39m _host \u001b[39m+\u001b[39m resource_path\n\u001b[1;32m    179\u001b[0m \u001b[39m# perform request and return response\u001b[39;00m\n\u001b[0;32m--> 180\u001b[0m response_data \u001b[39m=\u001b[39m \u001b[39mself\u001b[39;49m\u001b[39m.\u001b[39;49mrequest(\n\u001b[1;32m    181\u001b[0m     method, url, query_params\u001b[39m=\u001b[39;49mquery_params, headers\u001b[39m=\u001b[39;49mheader_params,\n\u001b[1;32m    182\u001b[0m     post_params\u001b[39m=\u001b[39;49mpost_params, body\u001b[39m=\u001b[39;49mbody,\n\u001b[1;32m    183\u001b[0m     _preload_content\u001b[39m=\u001b[39;49m_preload_content,\n\u001b[1;32m    184\u001b[0m     _request_timeout\u001b[39m=\u001b[39;49m_request_timeout)\n\u001b[1;32m    186\u001b[0m \u001b[39mself\u001b[39m\u001b[39m.\u001b[39mlast_response \u001b[39m=\u001b[39m response_data\n\u001b[1;32m    188\u001b[0m return_data \u001b[39m=\u001b[39m response_data\n",
      "File \u001b[0;32m/opt/homebrew/lib/python3.10/site-packages/kubernetes/client/api_client.py:407\u001b[0m, in \u001b[0;36mApiClient.request\u001b[0;34m(self, method, url, query_params, headers, post_params, body, _preload_content, _request_timeout)\u001b[0m\n\u001b[1;32m    399\u001b[0m     \u001b[39mreturn\u001b[39;00m \u001b[39mself\u001b[39m\u001b[39m.\u001b[39mrest_client\u001b[39m.\u001b[39mPUT(url,\n\u001b[1;32m    400\u001b[0m                                 query_params\u001b[39m=\u001b[39mquery_params,\n\u001b[1;32m    401\u001b[0m                                 headers\u001b[39m=\u001b[39mheaders,\n\u001b[0;32m   (...)\u001b[0m\n\u001b[1;32m    404\u001b[0m                                 _request_timeout\u001b[39m=\u001b[39m_request_timeout,\n\u001b[1;32m    405\u001b[0m                                 body\u001b[39m=\u001b[39mbody)\n\u001b[1;32m    406\u001b[0m \u001b[39melif\u001b[39;00m method \u001b[39m==\u001b[39m \u001b[39m\"\u001b[39m\u001b[39mPATCH\u001b[39m\u001b[39m\"\u001b[39m:\n\u001b[0;32m--> 407\u001b[0m     \u001b[39mreturn\u001b[39;00m \u001b[39mself\u001b[39;49m\u001b[39m.\u001b[39;49mrest_client\u001b[39m.\u001b[39;49mPATCH(url,\n\u001b[1;32m    408\u001b[0m                                   query_params\u001b[39m=\u001b[39;49mquery_params,\n\u001b[1;32m    409\u001b[0m                                   headers\u001b[39m=\u001b[39;49mheaders,\n\u001b[1;32m    410\u001b[0m                                   post_params\u001b[39m=\u001b[39;49mpost_params,\n\u001b[1;32m    411\u001b[0m                                   _preload_content\u001b[39m=\u001b[39;49m_preload_content,\n\u001b[1;32m    412\u001b[0m                                   _request_timeout\u001b[39m=\u001b[39;49m_request_timeout,\n\u001b[1;32m    413\u001b[0m                                   body\u001b[39m=\u001b[39;49mbody)\n\u001b[1;32m    414\u001b[0m \u001b[39melif\u001b[39;00m method \u001b[39m==\u001b[39m \u001b[39m\"\u001b[39m\u001b[39mDELETE\u001b[39m\u001b[39m\"\u001b[39m:\n\u001b[1;32m    415\u001b[0m     \u001b[39mreturn\u001b[39;00m \u001b[39mself\u001b[39m\u001b[39m.\u001b[39mrest_client\u001b[39m.\u001b[39mDELETE(url,\n\u001b[1;32m    416\u001b[0m                                    query_params\u001b[39m=\u001b[39mquery_params,\n\u001b[1;32m    417\u001b[0m                                    headers\u001b[39m=\u001b[39mheaders,\n\u001b[1;32m    418\u001b[0m                                    _preload_content\u001b[39m=\u001b[39m_preload_content,\n\u001b[1;32m    419\u001b[0m                                    _request_timeout\u001b[39m=\u001b[39m_request_timeout,\n\u001b[1;32m    420\u001b[0m                                    body\u001b[39m=\u001b[39mbody)\n",
      "File \u001b[0;32m/opt/homebrew/lib/python3.10/site-packages/kubernetes/client/rest.py:295\u001b[0m, in \u001b[0;36mRESTClientObject.PATCH\u001b[0;34m(self, url, headers, query_params, post_params, body, _preload_content, _request_timeout)\u001b[0m\n\u001b[1;32m    293\u001b[0m \u001b[39mdef\u001b[39;00m \u001b[39mPATCH\u001b[39m(\u001b[39mself\u001b[39m, url, headers\u001b[39m=\u001b[39m\u001b[39mNone\u001b[39;00m, query_params\u001b[39m=\u001b[39m\u001b[39mNone\u001b[39;00m, post_params\u001b[39m=\u001b[39m\u001b[39mNone\u001b[39;00m,\n\u001b[1;32m    294\u001b[0m           body\u001b[39m=\u001b[39m\u001b[39mNone\u001b[39;00m, _preload_content\u001b[39m=\u001b[39m\u001b[39mTrue\u001b[39;00m, _request_timeout\u001b[39m=\u001b[39m\u001b[39mNone\u001b[39;00m):\n\u001b[0;32m--> 295\u001b[0m     \u001b[39mreturn\u001b[39;00m \u001b[39mself\u001b[39;49m\u001b[39m.\u001b[39;49mrequest(\u001b[39m\"\u001b[39;49m\u001b[39mPATCH\u001b[39;49m\u001b[39m\"\u001b[39;49m, url,\n\u001b[1;32m    296\u001b[0m                         headers\u001b[39m=\u001b[39;49mheaders,\n\u001b[1;32m    297\u001b[0m                         query_params\u001b[39m=\u001b[39;49mquery_params,\n\u001b[1;32m    298\u001b[0m                         post_params\u001b[39m=\u001b[39;49mpost_params,\n\u001b[1;32m    299\u001b[0m                         _preload_content\u001b[39m=\u001b[39;49m_preload_content,\n\u001b[1;32m    300\u001b[0m                         _request_timeout\u001b[39m=\u001b[39;49m_request_timeout,\n\u001b[1;32m    301\u001b[0m                         body\u001b[39m=\u001b[39;49mbody)\n",
      "File \u001b[0;32m/opt/homebrew/lib/python3.10/site-packages/kubernetes/client/rest.py:234\u001b[0m, in \u001b[0;36mRESTClientObject.request\u001b[0;34m(self, method, url, query_params, headers, body, post_params, _preload_content, _request_timeout)\u001b[0m\n\u001b[1;32m    231\u001b[0m     logger\u001b[39m.\u001b[39mdebug(\u001b[39m\"\u001b[39m\u001b[39mresponse body: \u001b[39m\u001b[39m%s\u001b[39;00m\u001b[39m\"\u001b[39m, r\u001b[39m.\u001b[39mdata)\n\u001b[1;32m    233\u001b[0m \u001b[39mif\u001b[39;00m \u001b[39mnot\u001b[39;00m \u001b[39m200\u001b[39m \u001b[39m<\u001b[39m\u001b[39m=\u001b[39m r\u001b[39m.\u001b[39mstatus \u001b[39m<\u001b[39m\u001b[39m=\u001b[39m \u001b[39m299\u001b[39m:\n\u001b[0;32m--> 234\u001b[0m     \u001b[39mraise\u001b[39;00m ApiException(http_resp\u001b[39m=\u001b[39mr)\n\u001b[1;32m    236\u001b[0m \u001b[39mreturn\u001b[39;00m r\n",
      "\u001b[0;31mApiException\u001b[0m: (422)\nReason: Unprocessable Entity\nHTTP response headers: HTTPHeaderDict({'Cache-Control': 'no-cache, private', 'Content-Type': 'application/json', 'X-Kubernetes-Pf-Flowschema-Uid': 'd7846aa7-2000-49fb-81f3-7f033dd11d7e', 'X-Kubernetes-Pf-Prioritylevel-Uid': '99e29715-90d7-43c1-b132-98f418952660', 'Date': 'Thu, 01 Jun 2023 01:19:54 GMT', 'Content-Length': '2044'})\nHTTP response body: {\"kind\":\"Status\",\"apiVersion\":\"v1\",\"metadata\":{},\"status\":\"Failure\",\"message\":\" \\\"\\\" is invalid: patch: Invalid value: \\\"{\\\\\\\"apiVersion\\\\\\\":\\\\\\\"scheduling.k8s.io/v1\\\\\\\",\\\\\\\"kind\\\\\\\":\\\\\\\"PriorityClass\\\\\\\",\\\\\\\"metadata\\\\\\\":{\\\\\\\"name\\\\\\\":\\\\\\\"h-priority\\\\\\\",\\\\\\\"uid\\\\\\\":\\\\\\\"bfbe9c75-151e-43e7-90b8-2d23fca8ce9a\\\\\\\",\\\\\\\"resourceVersion\\\\\\\":\\\\\\\"15476\\\\\\\",\\\\\\\"generation\\\\\\\":1,\\\\\\\"creationTimestamp\\\\\\\":\\\\\\\"2023-05-26T06:44:33Z\\\\\\\",\\\\\\\"managedFields\\\\\\\":[{\\\\\\\"manager\\\\\\\":\\\\\\\"OpenAPI-Generator\\\\\\\",\\\\\\\"operation\\\\\\\":\\\\\\\"Update\\\\\\\",\\\\\\\"apiVersion\\\\\\\":\\\\\\\"scheduling.k8s.io/v1\\\\\\\",\\\\\\\"time\\\\\\\":\\\\\\\"2023-05-26T06:44:33Z\\\\\\\",\\\\\\\"fieldsType\\\\\\\":\\\\\\\"FieldsV1\\\\\\\",\\\\\\\"fieldsV1\\\\\\\":{\\\\\\\"f:preemptionPolicy\\\\\\\":{},\\\\\\\"f:value\\\\\\\":{}}}]},\\\\\\\"preemptionPolicy\\\\\\\":\\\\\\\"PreemptLowerPriority\\\\\\\",\\\\\\\"value\\\\\\\":\\\\\\\"1001\\\\\\\"}\\\": v1.PriorityClass.Value: readUint32: unexpected character: \\ufffd, error found in #10 byte of ...|,\\\"value\\\":\\\"1001\\\"}|..., bigger context ...|preemptionPolicy\\\":\\\"PreemptLowerPriority\\\",\\\"value\\\":\\\"1001\\\"}|...\",\"reason\":\"Invalid\",\"details\":{\"causes\":[{\"reason\":\"FieldValueInvalid\",\"message\":\"Invalid value: \\\"{\\\\\\\"apiVersion\\\\\\\":\\\\\\\"scheduling.k8s.io/v1\\\\\\\",\\\\\\\"kind\\\\\\\":\\\\\\\"PriorityClass\\\\\\\",\\\\\\\"metadata\\\\\\\":{\\\\\\\"name\\\\\\\":\\\\\\\"h-priority\\\\\\\",\\\\\\\"uid\\\\\\\":\\\\\\\"bfbe9c75-151e-43e7-90b8-2d23fca8ce9a\\\\\\\",\\\\\\\"resourceVersion\\\\\\\":\\\\\\\"15476\\\\\\\",\\\\\\\"generation\\\\\\\":1,\\\\\\\"creationTimestamp\\\\\\\":\\\\\\\"2023-05-26T06:44:33Z\\\\\\\",\\\\\\\"managedFields\\\\\\\":[{\\\\\\\"manager\\\\\\\":\\\\\\\"OpenAPI-Generator\\\\\\\",\\\\\\\"operation\\\\\\\":\\\\\\\"Update\\\\\\\",\\\\\\\"apiVersion\\\\\\\":\\\\\\\"scheduling.k8s.io/v1\\\\\\\",\\\\\\\"time\\\\\\\":\\\\\\\"2023-05-26T06:44:33Z\\\\\\\",\\\\\\\"fieldsType\\\\\\\":\\\\\\\"FieldsV1\\\\\\\",\\\\\\\"fieldsV1\\\\\\\":{\\\\\\\"f:preemptionPolicy\\\\\\\":{},\\\\\\\"f:value\\\\\\\":{}}}]},\\\\\\\"preemptionPolicy\\\\\\\":\\\\\\\"PreemptLowerPriority\\\\\\\",\\\\\\\"value\\\\\\\":\\\\\\\"1001\\\\\\\"}\\\": v1.PriorityClass.Value: readUint32: unexpected character: \\ufffd, error found in #10 byte of ...|,\\\"value\\\":\\\"1001\\\"}|..., bigger context ...|preemptionPolicy\\\":\\\"PreemptLowerPriority\\\",\\\"value\\\":\\\"1001\\\"}|...\",\"field\":\"patch\"}]},\"code\":422}\n\n"
     ]
    }
   ],
   "source": [
    "patched_resource = api.patch_cluster_custom_object(\n",
    "    group=\"scheduling.k8s.io\",\n",
    "    version=\"v1\",\n",
    "    plural=\"priorityclasses\",\n",
    "    name=\"h-priority\",\n",
    "    body=value_patch\n",
    ")"
   ]
  },
  {
   "cell_type": "code",
   "execution_count": 21,
   "metadata": {},
   "outputs": [
    {
     "ename": "ApiException",
     "evalue": "(404)\nReason: Not Found\nHTTP response headers: HTTPHeaderDict({'Cache-Control': 'no-cache, private', 'Content-Type': 'text/plain; charset=utf-8', 'X-Content-Type-Options': 'nosniff', 'X-Kubernetes-Pf-Flowschema-Uid': 'd7846aa7-2000-49fb-81f3-7f033dd11d7e', 'X-Kubernetes-Pf-Prioritylevel-Uid': '99e29715-90d7-43c1-b132-98f418952660', 'Date': 'Thu, 01 Jun 2023 01:20:08 GMT', 'Content-Length': '19'})\nHTTP response body: 404 page not found\n\n",
     "output_type": "error",
     "traceback": [
      "\u001b[0;31m---------------------------------------------------------------------------\u001b[0m",
      "\u001b[0;31mApiException\u001b[0m                              Traceback (most recent call last)",
      "\u001b[1;32m/Users/gimgihun/priority-controller/k8s.ipynb 셀 21\u001b[0m in \u001b[0;36m2\n\u001b[1;32m     <a href='vscode-notebook-cell:/Users/gimgihun/priority-controller/k8s.ipynb#X26sZmlsZQ%3D%3D?line=11'>12</a>\u001b[0m \u001b[39m# patch to add the `metadata.labels` field\u001b[39;00m\n\u001b[1;32m     <a href='vscode-notebook-cell:/Users/gimgihun/priority-controller/k8s.ipynb#X26sZmlsZQ%3D%3D?line=12'>13</a>\u001b[0m metadata_label_patch \u001b[39m=\u001b[39m {\n\u001b[1;32m     <a href='vscode-notebook-cell:/Users/gimgihun/priority-controller/k8s.ipynb#X26sZmlsZQ%3D%3D?line=13'>14</a>\u001b[0m     \u001b[39m\"\u001b[39m\u001b[39mmetadata\u001b[39m\u001b[39m\"\u001b[39m: {\n\u001b[1;32m     <a href='vscode-notebook-cell:/Users/gimgihun/priority-controller/k8s.ipynb#X26sZmlsZQ%3D%3D?line=14'>15</a>\u001b[0m         \u001b[39m\"\u001b[39m\u001b[39mlabels\u001b[39m\u001b[39m\"\u001b[39m: {\n\u001b[0;32m   (...)\u001b[0m\n\u001b[1;32m     <a href='vscode-notebook-cell:/Users/gimgihun/priority-controller/k8s.ipynb#X26sZmlsZQ%3D%3D?line=17'>18</a>\u001b[0m     }\n\u001b[1;32m     <a href='vscode-notebook-cell:/Users/gimgihun/priority-controller/k8s.ipynb#X26sZmlsZQ%3D%3D?line=18'>19</a>\u001b[0m }\n\u001b[0;32m---> <a href='vscode-notebook-cell:/Users/gimgihun/priority-controller/k8s.ipynb#X26sZmlsZQ%3D%3D?line=20'>21</a>\u001b[0m created_resource \u001b[39m=\u001b[39m api\u001b[39m.\u001b[39;49mcreate_cluster_custom_object(\n\u001b[1;32m     <a href='vscode-notebook-cell:/Users/gimgihun/priority-controller/k8s.ipynb#X26sZmlsZQ%3D%3D?line=21'>22</a>\u001b[0m     group\u001b[39m=\u001b[39;49m\u001b[39m\"\u001b[39;49m\u001b[39mstable.example.com\u001b[39;49m\u001b[39m\"\u001b[39;49m,\n\u001b[1;32m     <a href='vscode-notebook-cell:/Users/gimgihun/priority-controller/k8s.ipynb#X26sZmlsZQ%3D%3D?line=22'>23</a>\u001b[0m     version\u001b[39m=\u001b[39;49m\u001b[39m\"\u001b[39;49m\u001b[39mv1\u001b[39;49m\u001b[39m\"\u001b[39;49m,\n\u001b[1;32m     <a href='vscode-notebook-cell:/Users/gimgihun/priority-controller/k8s.ipynb#X26sZmlsZQ%3D%3D?line=23'>24</a>\u001b[0m     plural\u001b[39m=\u001b[39;49m\u001b[39m\"\u001b[39;49m\u001b[39mcrontabs\u001b[39;49m\u001b[39m\"\u001b[39;49m,\n\u001b[1;32m     <a href='vscode-notebook-cell:/Users/gimgihun/priority-controller/k8s.ipynb#X26sZmlsZQ%3D%3D?line=24'>25</a>\u001b[0m     body\u001b[39m=\u001b[39;49mtest_resource,     \n\u001b[1;32m     <a href='vscode-notebook-cell:/Users/gimgihun/priority-controller/k8s.ipynb#X26sZmlsZQ%3D%3D?line=25'>26</a>\u001b[0m )\n",
      "File \u001b[0;32m/opt/homebrew/lib/python3.10/site-packages/kubernetes/client/api/custom_objects_api.py:68\u001b[0m, in \u001b[0;36mCustomObjectsApi.create_cluster_custom_object\u001b[0;34m(self, group, version, plural, body, **kwargs)\u001b[0m\n\u001b[1;32m     40\u001b[0m \u001b[39m\"\"\"create_cluster_custom_object  # noqa: E501\u001b[39;00m\n\u001b[1;32m     41\u001b[0m \n\u001b[1;32m     42\u001b[0m \u001b[39mCreates a cluster scoped Custom object  # noqa: E501\u001b[39;00m\n\u001b[0;32m   (...)\u001b[0m\n\u001b[1;32m     65\u001b[0m \u001b[39m         returns the request thread.\u001b[39;00m\n\u001b[1;32m     66\u001b[0m \u001b[39m\"\"\"\u001b[39;00m\n\u001b[1;32m     67\u001b[0m kwargs[\u001b[39m'\u001b[39m\u001b[39m_return_http_data_only\u001b[39m\u001b[39m'\u001b[39m] \u001b[39m=\u001b[39m \u001b[39mTrue\u001b[39;00m\n\u001b[0;32m---> 68\u001b[0m \u001b[39mreturn\u001b[39;00m \u001b[39mself\u001b[39;49m\u001b[39m.\u001b[39;49mcreate_cluster_custom_object_with_http_info(group, version, plural, body, \u001b[39m*\u001b[39;49m\u001b[39m*\u001b[39;49mkwargs)\n",
      "File \u001b[0;32m/opt/homebrew/lib/python3.10/site-packages/kubernetes/client/api/custom_objects_api.py:179\u001b[0m, in \u001b[0;36mCustomObjectsApi.create_cluster_custom_object_with_http_info\u001b[0;34m(self, group, version, plural, body, **kwargs)\u001b[0m\n\u001b[1;32m    176\u001b[0m \u001b[39m# Authentication setting\u001b[39;00m\n\u001b[1;32m    177\u001b[0m auth_settings \u001b[39m=\u001b[39m [\u001b[39m'\u001b[39m\u001b[39mBearerToken\u001b[39m\u001b[39m'\u001b[39m]  \u001b[39m# noqa: E501\u001b[39;00m\n\u001b[0;32m--> 179\u001b[0m \u001b[39mreturn\u001b[39;00m \u001b[39mself\u001b[39;49m\u001b[39m.\u001b[39;49mapi_client\u001b[39m.\u001b[39;49mcall_api(\n\u001b[1;32m    180\u001b[0m     \u001b[39m'\u001b[39;49m\u001b[39m/apis/\u001b[39;49m\u001b[39m{group}\u001b[39;49;00m\u001b[39m/\u001b[39;49m\u001b[39m{version}\u001b[39;49;00m\u001b[39m/\u001b[39;49m\u001b[39m{plural}\u001b[39;49;00m\u001b[39m'\u001b[39;49m, \u001b[39m'\u001b[39;49m\u001b[39mPOST\u001b[39;49m\u001b[39m'\u001b[39;49m,\n\u001b[1;32m    181\u001b[0m     path_params,\n\u001b[1;32m    182\u001b[0m     query_params,\n\u001b[1;32m    183\u001b[0m     header_params,\n\u001b[1;32m    184\u001b[0m     body\u001b[39m=\u001b[39;49mbody_params,\n\u001b[1;32m    185\u001b[0m     post_params\u001b[39m=\u001b[39;49mform_params,\n\u001b[1;32m    186\u001b[0m     files\u001b[39m=\u001b[39;49mlocal_var_files,\n\u001b[1;32m    187\u001b[0m     response_type\u001b[39m=\u001b[39;49m\u001b[39m'\u001b[39;49m\u001b[39mobject\u001b[39;49m\u001b[39m'\u001b[39;49m,  \u001b[39m# noqa: E501\u001b[39;49;00m\n\u001b[1;32m    188\u001b[0m     auth_settings\u001b[39m=\u001b[39;49mauth_settings,\n\u001b[1;32m    189\u001b[0m     async_req\u001b[39m=\u001b[39;49mlocal_var_params\u001b[39m.\u001b[39;49mget(\u001b[39m'\u001b[39;49m\u001b[39masync_req\u001b[39;49m\u001b[39m'\u001b[39;49m),\n\u001b[1;32m    190\u001b[0m     _return_http_data_only\u001b[39m=\u001b[39;49mlocal_var_params\u001b[39m.\u001b[39;49mget(\u001b[39m'\u001b[39;49m\u001b[39m_return_http_data_only\u001b[39;49m\u001b[39m'\u001b[39;49m),  \u001b[39m# noqa: E501\u001b[39;49;00m\n\u001b[1;32m    191\u001b[0m     _preload_content\u001b[39m=\u001b[39;49mlocal_var_params\u001b[39m.\u001b[39;49mget(\u001b[39m'\u001b[39;49m\u001b[39m_preload_content\u001b[39;49m\u001b[39m'\u001b[39;49m, \u001b[39mTrue\u001b[39;49;00m),\n\u001b[1;32m    192\u001b[0m     _request_timeout\u001b[39m=\u001b[39;49mlocal_var_params\u001b[39m.\u001b[39;49mget(\u001b[39m'\u001b[39;49m\u001b[39m_request_timeout\u001b[39;49m\u001b[39m'\u001b[39;49m),\n\u001b[1;32m    193\u001b[0m     collection_formats\u001b[39m=\u001b[39;49mcollection_formats)\n",
      "File \u001b[0;32m/opt/homebrew/lib/python3.10/site-packages/kubernetes/client/api_client.py:348\u001b[0m, in \u001b[0;36mApiClient.call_api\u001b[0;34m(self, resource_path, method, path_params, query_params, header_params, body, post_params, files, response_type, auth_settings, async_req, _return_http_data_only, collection_formats, _preload_content, _request_timeout, _host)\u001b[0m\n\u001b[1;32m    311\u001b[0m \u001b[39m\"\"\"Makes the HTTP request (synchronous) and returns deserialized data.\u001b[39;00m\n\u001b[1;32m    312\u001b[0m \n\u001b[1;32m    313\u001b[0m \u001b[39mTo make an async_req request, set the async_req parameter.\u001b[39;00m\n\u001b[0;32m   (...)\u001b[0m\n\u001b[1;32m    345\u001b[0m \u001b[39m    then the method will return the response directly.\u001b[39;00m\n\u001b[1;32m    346\u001b[0m \u001b[39m\"\"\"\u001b[39;00m\n\u001b[1;32m    347\u001b[0m \u001b[39mif\u001b[39;00m \u001b[39mnot\u001b[39;00m async_req:\n\u001b[0;32m--> 348\u001b[0m     \u001b[39mreturn\u001b[39;00m \u001b[39mself\u001b[39;49m\u001b[39m.\u001b[39;49m__call_api(resource_path, method,\n\u001b[1;32m    349\u001b[0m                            path_params, query_params, header_params,\n\u001b[1;32m    350\u001b[0m                            body, post_params, files,\n\u001b[1;32m    351\u001b[0m                            response_type, auth_settings,\n\u001b[1;32m    352\u001b[0m                            _return_http_data_only, collection_formats,\n\u001b[1;32m    353\u001b[0m                            _preload_content, _request_timeout, _host)\n\u001b[1;32m    355\u001b[0m \u001b[39mreturn\u001b[39;00m \u001b[39mself\u001b[39m\u001b[39m.\u001b[39mpool\u001b[39m.\u001b[39mapply_async(\u001b[39mself\u001b[39m\u001b[39m.\u001b[39m__call_api, (resource_path,\n\u001b[1;32m    356\u001b[0m                                                method, path_params,\n\u001b[1;32m    357\u001b[0m                                                query_params,\n\u001b[0;32m   (...)\u001b[0m\n\u001b[1;32m    365\u001b[0m                                                _request_timeout,\n\u001b[1;32m    366\u001b[0m                                                _host))\n",
      "File \u001b[0;32m/opt/homebrew/lib/python3.10/site-packages/kubernetes/client/api_client.py:180\u001b[0m, in \u001b[0;36mApiClient.__call_api\u001b[0;34m(self, resource_path, method, path_params, query_params, header_params, body, post_params, files, response_type, auth_settings, _return_http_data_only, collection_formats, _preload_content, _request_timeout, _host)\u001b[0m\n\u001b[1;32m    177\u001b[0m     url \u001b[39m=\u001b[39m _host \u001b[39m+\u001b[39m resource_path\n\u001b[1;32m    179\u001b[0m \u001b[39m# perform request and return response\u001b[39;00m\n\u001b[0;32m--> 180\u001b[0m response_data \u001b[39m=\u001b[39m \u001b[39mself\u001b[39;49m\u001b[39m.\u001b[39;49mrequest(\n\u001b[1;32m    181\u001b[0m     method, url, query_params\u001b[39m=\u001b[39;49mquery_params, headers\u001b[39m=\u001b[39;49mheader_params,\n\u001b[1;32m    182\u001b[0m     post_params\u001b[39m=\u001b[39;49mpost_params, body\u001b[39m=\u001b[39;49mbody,\n\u001b[1;32m    183\u001b[0m     _preload_content\u001b[39m=\u001b[39;49m_preload_content,\n\u001b[1;32m    184\u001b[0m     _request_timeout\u001b[39m=\u001b[39;49m_request_timeout)\n\u001b[1;32m    186\u001b[0m \u001b[39mself\u001b[39m\u001b[39m.\u001b[39mlast_response \u001b[39m=\u001b[39m response_data\n\u001b[1;32m    188\u001b[0m return_data \u001b[39m=\u001b[39m response_data\n",
      "File \u001b[0;32m/opt/homebrew/lib/python3.10/site-packages/kubernetes/client/api_client.py:391\u001b[0m, in \u001b[0;36mApiClient.request\u001b[0;34m(self, method, url, query_params, headers, post_params, body, _preload_content, _request_timeout)\u001b[0m\n\u001b[1;32m    385\u001b[0m     \u001b[39mreturn\u001b[39;00m \u001b[39mself\u001b[39m\u001b[39m.\u001b[39mrest_client\u001b[39m.\u001b[39mOPTIONS(url,\n\u001b[1;32m    386\u001b[0m                                     query_params\u001b[39m=\u001b[39mquery_params,\n\u001b[1;32m    387\u001b[0m                                     headers\u001b[39m=\u001b[39mheaders,\n\u001b[1;32m    388\u001b[0m                                     _preload_content\u001b[39m=\u001b[39m_preload_content,\n\u001b[1;32m    389\u001b[0m                                     _request_timeout\u001b[39m=\u001b[39m_request_timeout)\n\u001b[1;32m    390\u001b[0m \u001b[39melif\u001b[39;00m method \u001b[39m==\u001b[39m \u001b[39m\"\u001b[39m\u001b[39mPOST\u001b[39m\u001b[39m\"\u001b[39m:\n\u001b[0;32m--> 391\u001b[0m     \u001b[39mreturn\u001b[39;00m \u001b[39mself\u001b[39;49m\u001b[39m.\u001b[39;49mrest_client\u001b[39m.\u001b[39;49mPOST(url,\n\u001b[1;32m    392\u001b[0m                                  query_params\u001b[39m=\u001b[39;49mquery_params,\n\u001b[1;32m    393\u001b[0m                                  headers\u001b[39m=\u001b[39;49mheaders,\n\u001b[1;32m    394\u001b[0m                                  post_params\u001b[39m=\u001b[39;49mpost_params,\n\u001b[1;32m    395\u001b[0m                                  _preload_content\u001b[39m=\u001b[39;49m_preload_content,\n\u001b[1;32m    396\u001b[0m                                  _request_timeout\u001b[39m=\u001b[39;49m_request_timeout,\n\u001b[1;32m    397\u001b[0m                                  body\u001b[39m=\u001b[39;49mbody)\n\u001b[1;32m    398\u001b[0m \u001b[39melif\u001b[39;00m method \u001b[39m==\u001b[39m \u001b[39m\"\u001b[39m\u001b[39mPUT\u001b[39m\u001b[39m\"\u001b[39m:\n\u001b[1;32m    399\u001b[0m     \u001b[39mreturn\u001b[39;00m \u001b[39mself\u001b[39m\u001b[39m.\u001b[39mrest_client\u001b[39m.\u001b[39mPUT(url,\n\u001b[1;32m    400\u001b[0m                                 query_params\u001b[39m=\u001b[39mquery_params,\n\u001b[1;32m    401\u001b[0m                                 headers\u001b[39m=\u001b[39mheaders,\n\u001b[0;32m   (...)\u001b[0m\n\u001b[1;32m    404\u001b[0m                                 _request_timeout\u001b[39m=\u001b[39m_request_timeout,\n\u001b[1;32m    405\u001b[0m                                 body\u001b[39m=\u001b[39mbody)\n",
      "File \u001b[0;32m/opt/homebrew/lib/python3.10/site-packages/kubernetes/client/rest.py:275\u001b[0m, in \u001b[0;36mRESTClientObject.POST\u001b[0;34m(self, url, headers, query_params, post_params, body, _preload_content, _request_timeout)\u001b[0m\n\u001b[1;32m    273\u001b[0m \u001b[39mdef\u001b[39;00m \u001b[39mPOST\u001b[39m(\u001b[39mself\u001b[39m, url, headers\u001b[39m=\u001b[39m\u001b[39mNone\u001b[39;00m, query_params\u001b[39m=\u001b[39m\u001b[39mNone\u001b[39;00m, post_params\u001b[39m=\u001b[39m\u001b[39mNone\u001b[39;00m,\n\u001b[1;32m    274\u001b[0m          body\u001b[39m=\u001b[39m\u001b[39mNone\u001b[39;00m, _preload_content\u001b[39m=\u001b[39m\u001b[39mTrue\u001b[39;00m, _request_timeout\u001b[39m=\u001b[39m\u001b[39mNone\u001b[39;00m):\n\u001b[0;32m--> 275\u001b[0m     \u001b[39mreturn\u001b[39;00m \u001b[39mself\u001b[39;49m\u001b[39m.\u001b[39;49mrequest(\u001b[39m\"\u001b[39;49m\u001b[39mPOST\u001b[39;49m\u001b[39m\"\u001b[39;49m, url,\n\u001b[1;32m    276\u001b[0m                         headers\u001b[39m=\u001b[39;49mheaders,\n\u001b[1;32m    277\u001b[0m                         query_params\u001b[39m=\u001b[39;49mquery_params,\n\u001b[1;32m    278\u001b[0m                         post_params\u001b[39m=\u001b[39;49mpost_params,\n\u001b[1;32m    279\u001b[0m                         _preload_content\u001b[39m=\u001b[39;49m_preload_content,\n\u001b[1;32m    280\u001b[0m                         _request_timeout\u001b[39m=\u001b[39;49m_request_timeout,\n\u001b[1;32m    281\u001b[0m                         body\u001b[39m=\u001b[39;49mbody)\n",
      "File \u001b[0;32m/opt/homebrew/lib/python3.10/site-packages/kubernetes/client/rest.py:234\u001b[0m, in \u001b[0;36mRESTClientObject.request\u001b[0;34m(self, method, url, query_params, headers, body, post_params, _preload_content, _request_timeout)\u001b[0m\n\u001b[1;32m    231\u001b[0m     logger\u001b[39m.\u001b[39mdebug(\u001b[39m\"\u001b[39m\u001b[39mresponse body: \u001b[39m\u001b[39m%s\u001b[39;00m\u001b[39m\"\u001b[39m, r\u001b[39m.\u001b[39mdata)\n\u001b[1;32m    233\u001b[0m \u001b[39mif\u001b[39;00m \u001b[39mnot\u001b[39;00m \u001b[39m200\u001b[39m \u001b[39m<\u001b[39m\u001b[39m=\u001b[39m r\u001b[39m.\u001b[39mstatus \u001b[39m<\u001b[39m\u001b[39m=\u001b[39m \u001b[39m299\u001b[39m:\n\u001b[0;32m--> 234\u001b[0m     \u001b[39mraise\u001b[39;00m ApiException(http_resp\u001b[39m=\u001b[39mr)\n\u001b[1;32m    236\u001b[0m \u001b[39mreturn\u001b[39;00m r\n",
      "\u001b[0;31mApiException\u001b[0m: (404)\nReason: Not Found\nHTTP response headers: HTTPHeaderDict({'Cache-Control': 'no-cache, private', 'Content-Type': 'text/plain; charset=utf-8', 'X-Content-Type-Options': 'nosniff', 'X-Kubernetes-Pf-Flowschema-Uid': 'd7846aa7-2000-49fb-81f3-7f033dd11d7e', 'X-Kubernetes-Pf-Prioritylevel-Uid': '99e29715-90d7-43c1-b132-98f418952660', 'Date': 'Thu, 01 Jun 2023 01:20:08 GMT', 'Content-Length': '19'})\nHTTP response body: 404 page not found\n\n"
     ]
    }
   ],
   "source": [
    "test_resource = {\n",
    "        \"apiVersion\": \"stable.example.com/v1\",\n",
    "        \"kind\": \"CronTab\",\n",
    "        \"metadata\": {\"name\": \"test-crontab\"},\n",
    "        \"spec\": {\"cronSpec\": \"* * * * */5\", \"image\": \"my-awesome-cron-image\"},\n",
    "    }\n",
    "\n",
    "cronspec_patch = {\n",
    "        \"spec\": {\"cronSpec\": \"* * * * */15\", \"image\": \"my-awesome-cron-image\"}\n",
    "    }\n",
    "\n",
    "# patch to add the `metadata.labels` field\n",
    "metadata_label_patch = {\n",
    "    \"metadata\": {\n",
    "        \"labels\": {\n",
    "            \"foo\": \"bar\",\n",
    "        }\n",
    "    }\n",
    "}\n",
    "\n",
    "created_resource = api.create_cluster_custom_object(\n",
    "    group=\"stable.example.com\",\n",
    "    version=\"v1\",\n",
    "    plural=\"crontabs\",\n",
    "    body=test_resource,     \n",
    ")"
   ]
  },
  {
   "cell_type": "code",
   "execution_count": 23,
   "metadata": {},
   "outputs": [
    {
     "data": {
      "text/plain": [
       "{'api_version': 'v1',\n",
       " 'items': [{'api_version': None,\n",
       "            'kind': None,\n",
       "            'metadata': {'annotations': None,\n",
       "                         'cluster_name': None,\n",
       "                         'creation_timestamp': datetime.datetime(2023, 5, 28, 7, 55, 20, tzinfo=tzutc()),\n",
       "                         'deletion_grace_period_seconds': None,\n",
       "                         'deletion_timestamp': None,\n",
       "                         'finalizers': None,\n",
       "                         'generate_name': None,\n",
       "                         'generation': None,\n",
       "                         'labels': {'kubernetes.io/metadata.name': 'argo'},\n",
       "                         'managed_fields': [{'api_version': 'v1',\n",
       "                                             'fields_type': 'FieldsV1',\n",
       "                                             'fields_v1': {'f:metadata': {'f:labels': {'.': {},\n",
       "                                                                                       'f:kubernetes.io/metadata.name': {}}}},\n",
       "                                             'manager': 'kubectl-create',\n",
       "                                             'operation': 'Update',\n",
       "                                             'time': datetime.datetime(2023, 5, 28, 7, 55, 20, tzinfo=tzutc())}],\n",
       "                         'name': 'argo',\n",
       "                         'namespace': None,\n",
       "                         'owner_references': None,\n",
       "                         'resource_version': '157801',\n",
       "                         'self_link': None,\n",
       "                         'uid': '355cdf44-a43b-4464-9a3c-808bb9292737'},\n",
       "            'spec': {'finalizers': ['kubernetes']},\n",
       "            'status': {'conditions': None, 'phase': 'Active'}},\n",
       "           {'api_version': None,\n",
       "            'kind': None,\n",
       "            'metadata': {'annotations': None,\n",
       "                         'cluster_name': None,\n",
       "                         'creation_timestamp': datetime.datetime(2023, 5, 26, 1, 40, 39, tzinfo=tzutc()),\n",
       "                         'deletion_grace_period_seconds': None,\n",
       "                         'deletion_timestamp': None,\n",
       "                         'finalizers': None,\n",
       "                         'generate_name': None,\n",
       "                         'generation': None,\n",
       "                         'labels': {'kubernetes.io/metadata.name': 'default'},\n",
       "                         'managed_fields': [{'api_version': 'v1',\n",
       "                                             'fields_type': 'FieldsV1',\n",
       "                                             'fields_v1': {'f:metadata': {'f:labels': {'.': {},\n",
       "                                                                                       'f:kubernetes.io/metadata.name': {}}}},\n",
       "                                             'manager': 'kube-apiserver',\n",
       "                                             'operation': 'Update',\n",
       "                                             'time': datetime.datetime(2023, 5, 26, 1, 40, 39, tzinfo=tzutc())}],\n",
       "                         'name': 'default',\n",
       "                         'namespace': None,\n",
       "                         'owner_references': None,\n",
       "                         'resource_version': '200',\n",
       "                         'self_link': None,\n",
       "                         'uid': '9f2146b5-9e58-4048-bc70-8a6c3d8b74bc'},\n",
       "            'spec': {'finalizers': ['kubernetes']},\n",
       "            'status': {'conditions': None, 'phase': 'Active'}},\n",
       "           {'api_version': None,\n",
       "            'kind': None,\n",
       "            'metadata': {'annotations': None,\n",
       "                         'cluster_name': None,\n",
       "                         'creation_timestamp': datetime.datetime(2023, 5, 26, 1, 40, 38, tzinfo=tzutc()),\n",
       "                         'deletion_grace_period_seconds': None,\n",
       "                         'deletion_timestamp': None,\n",
       "                         'finalizers': None,\n",
       "                         'generate_name': None,\n",
       "                         'generation': None,\n",
       "                         'labels': {'kubernetes.io/metadata.name': 'kube-node-lease'},\n",
       "                         'managed_fields': [{'api_version': 'v1',\n",
       "                                             'fields_type': 'FieldsV1',\n",
       "                                             'fields_v1': {'f:metadata': {'f:labels': {'.': {},\n",
       "                                                                                       'f:kubernetes.io/metadata.name': {}}}},\n",
       "                                             'manager': 'kube-apiserver',\n",
       "                                             'operation': 'Update',\n",
       "                                             'time': datetime.datetime(2023, 5, 26, 1, 40, 38, tzinfo=tzutc())}],\n",
       "                         'name': 'kube-node-lease',\n",
       "                         'namespace': None,\n",
       "                         'owner_references': None,\n",
       "                         'resource_version': '23',\n",
       "                         'self_link': None,\n",
       "                         'uid': '9adac8a0-2289-4f5c-9707-20dd284f83c1'},\n",
       "            'spec': {'finalizers': ['kubernetes']},\n",
       "            'status': {'conditions': None, 'phase': 'Active'}},\n",
       "           {'api_version': None,\n",
       "            'kind': None,\n",
       "            'metadata': {'annotations': None,\n",
       "                         'cluster_name': None,\n",
       "                         'creation_timestamp': datetime.datetime(2023, 5, 26, 1, 40, 38, tzinfo=tzutc()),\n",
       "                         'deletion_grace_period_seconds': None,\n",
       "                         'deletion_timestamp': None,\n",
       "                         'finalizers': None,\n",
       "                         'generate_name': None,\n",
       "                         'generation': None,\n",
       "                         'labels': {'kubernetes.io/metadata.name': 'kube-public'},\n",
       "                         'managed_fields': [{'api_version': 'v1',\n",
       "                                             'fields_type': 'FieldsV1',\n",
       "                                             'fields_v1': {'f:metadata': {'f:labels': {'.': {},\n",
       "                                                                                       'f:kubernetes.io/metadata.name': {}}}},\n",
       "                                             'manager': 'kube-apiserver',\n",
       "                                             'operation': 'Update',\n",
       "                                             'time': datetime.datetime(2023, 5, 26, 1, 40, 38, tzinfo=tzutc())}],\n",
       "                         'name': 'kube-public',\n",
       "                         'namespace': None,\n",
       "                         'owner_references': None,\n",
       "                         'resource_version': '20',\n",
       "                         'self_link': None,\n",
       "                         'uid': '5ab1bf4a-d3cc-4a0d-aa67-aba11b3bbbe6'},\n",
       "            'spec': {'finalizers': ['kubernetes']},\n",
       "            'status': {'conditions': None, 'phase': 'Active'}},\n",
       "           {'api_version': None,\n",
       "            'kind': None,\n",
       "            'metadata': {'annotations': None,\n",
       "                         'cluster_name': None,\n",
       "                         'creation_timestamp': datetime.datetime(2023, 5, 26, 1, 40, 38, tzinfo=tzutc()),\n",
       "                         'deletion_grace_period_seconds': None,\n",
       "                         'deletion_timestamp': None,\n",
       "                         'finalizers': None,\n",
       "                         'generate_name': None,\n",
       "                         'generation': None,\n",
       "                         'labels': {'kubernetes.io/metadata.name': 'kube-system'},\n",
       "                         'managed_fields': [{'api_version': 'v1',\n",
       "                                             'fields_type': 'FieldsV1',\n",
       "                                             'fields_v1': {'f:metadata': {'f:labels': {'.': {},\n",
       "                                                                                       'f:kubernetes.io/metadata.name': {}}}},\n",
       "                                             'manager': 'kube-apiserver',\n",
       "                                             'operation': 'Update',\n",
       "                                             'time': datetime.datetime(2023, 5, 26, 1, 40, 38, tzinfo=tzutc())}],\n",
       "                         'name': 'kube-system',\n",
       "                         'namespace': None,\n",
       "                         'owner_references': None,\n",
       "                         'resource_version': '14',\n",
       "                         'self_link': None,\n",
       "                         'uid': '09a9b93d-1338-4dbc-b8bc-1bd02cdc1f5b'},\n",
       "            'spec': {'finalizers': ['kubernetes']},\n",
       "            'status': {'conditions': None, 'phase': 'Active'}},\n",
       "           {'api_version': None,\n",
       "            'kind': None,\n",
       "            'metadata': {'annotations': {'kubectl.kubernetes.io/last-applied-configuration': '{\"apiVersion\":\"v1\",\"kind\":\"Namespace\",\"metadata\":{\"annotations\":{},\"labels\":{\"addonmanager.kubernetes.io/mode\":\"Reconcile\",\"kubernetes.io/minikube-addons\":\"dashboard\"},\"name\":\"kubernetes-dashboard\"}}\\n'},\n",
       "                         'cluster_name': None,\n",
       "                         'creation_timestamp': datetime.datetime(2023, 5, 26, 5, 56, 32, tzinfo=tzutc()),\n",
       "                         'deletion_grace_period_seconds': None,\n",
       "                         'deletion_timestamp': None,\n",
       "                         'finalizers': None,\n",
       "                         'generate_name': None,\n",
       "                         'generation': None,\n",
       "                         'labels': {'addonmanager.kubernetes.io/mode': 'Reconcile',\n",
       "                                    'kubernetes.io/metadata.name': 'kubernetes-dashboard',\n",
       "                                    'kubernetes.io/minikube-addons': 'dashboard'},\n",
       "                         'managed_fields': [{'api_version': 'v1',\n",
       "                                             'fields_type': 'FieldsV1',\n",
       "                                             'fields_v1': {'f:metadata': {'f:annotations': {'.': {},\n",
       "                                                                                            'f:kubectl.kubernetes.io/last-applied-configuration': {}},\n",
       "                                                                          'f:labels': {'.': {},\n",
       "                                                                                       'f:addonmanager.kubernetes.io/mode': {},\n",
       "                                                                                       'f:kubernetes.io/metadata.name': {},\n",
       "                                                                                       'f:kubernetes.io/minikube-addons': {}}}},\n",
       "                                             'manager': 'kubectl-client-side-apply',\n",
       "                                             'operation': 'Update',\n",
       "                                             'time': datetime.datetime(2023, 5, 26, 5, 56, 32, tzinfo=tzutc())}],\n",
       "                         'name': 'kubernetes-dashboard',\n",
       "                         'namespace': None,\n",
       "                         'owner_references': None,\n",
       "                         'resource_version': '13027',\n",
       "                         'self_link': None,\n",
       "                         'uid': '52bc2729-fba5-42fc-b932-d54bcf622d09'},\n",
       "            'spec': {'finalizers': ['kubernetes']},\n",
       "            'status': {'conditions': None, 'phase': 'Active'}},\n",
       "           {'api_version': None,\n",
       "            'kind': None,\n",
       "            'metadata': {'annotations': {'kubectl.kubernetes.io/last-applied-configuration': '{\"apiVersion\":\"v1\",\"kind\":\"Namespace\",\"metadata\":{\"annotations\":{},\"labels\":{\"kubernetes.io/metadata.name\":\"volcano-monitoring\"},\"name\":\"volcano-monitoring\"}}\\n'},\n",
       "                         'cluster_name': None,\n",
       "                         'creation_timestamp': datetime.datetime(2023, 5, 26, 1, 43, 45, tzinfo=tzutc()),\n",
       "                         'deletion_grace_period_seconds': None,\n",
       "                         'deletion_timestamp': None,\n",
       "                         'finalizers': None,\n",
       "                         'generate_name': None,\n",
       "                         'generation': None,\n",
       "                         'labels': {'kubernetes.io/metadata.name': 'volcano-monitoring'},\n",
       "                         'managed_fields': [{'api_version': 'v1',\n",
       "                                             'fields_type': 'FieldsV1',\n",
       "                                             'fields_v1': {'f:metadata': {'f:annotations': {'.': {},\n",
       "                                                                                            'f:kubectl.kubernetes.io/last-applied-configuration': {}},\n",
       "                                                                          'f:labels': {'.': {},\n",
       "                                                                                       'f:kubernetes.io/metadata.name': {}}}},\n",
       "                                             'manager': 'kubectl-client-side-apply',\n",
       "                                             'operation': 'Update',\n",
       "                                             'time': datetime.datetime(2023, 5, 26, 1, 43, 45, tzinfo=tzutc())}],\n",
       "                         'name': 'volcano-monitoring',\n",
       "                         'namespace': None,\n",
       "                         'owner_references': None,\n",
       "                         'resource_version': '675',\n",
       "                         'self_link': None,\n",
       "                         'uid': '7df13803-a997-497f-b209-1db630c30551'},\n",
       "            'spec': {'finalizers': ['kubernetes']},\n",
       "            'status': {'conditions': None, 'phase': 'Active'}},\n",
       "           {'api_version': None,\n",
       "            'kind': None,\n",
       "            'metadata': {'annotations': {'kubectl.kubernetes.io/last-applied-configuration': '{\"apiVersion\":\"v1\",\"kind\":\"Namespace\",\"metadata\":{\"annotations\":{},\"labels\":{\"kubernetes.io/metadata.name\":\"volcano-system\"},\"name\":\"volcano-system\"}}\\n'},\n",
       "                         'cluster_name': None,\n",
       "                         'creation_timestamp': datetime.datetime(2023, 5, 26, 1, 43, 45, tzinfo=tzutc()),\n",
       "                         'deletion_grace_period_seconds': None,\n",
       "                         'deletion_timestamp': None,\n",
       "                         'finalizers': None,\n",
       "                         'generate_name': None,\n",
       "                         'generation': None,\n",
       "                         'labels': {'kubernetes.io/metadata.name': 'volcano-system'},\n",
       "                         'managed_fields': [{'api_version': 'v1',\n",
       "                                             'fields_type': 'FieldsV1',\n",
       "                                             'fields_v1': {'f:metadata': {'f:annotations': {'.': {},\n",
       "                                                                                            'f:kubectl.kubernetes.io/last-applied-configuration': {}},\n",
       "                                                                          'f:labels': {'.': {},\n",
       "                                                                                       'f:kubernetes.io/metadata.name': {}}}},\n",
       "                                             'manager': 'kubectl-client-side-apply',\n",
       "                                             'operation': 'Update',\n",
       "                                             'time': datetime.datetime(2023, 5, 26, 1, 43, 45, tzinfo=tzutc())}],\n",
       "                         'name': 'volcano-system',\n",
       "                         'namespace': None,\n",
       "                         'owner_references': None,\n",
       "                         'resource_version': '672',\n",
       "                         'self_link': None,\n",
       "                         'uid': '581d45e6-6e94-4958-8c88-7af9b4ff651e'},\n",
       "            'spec': {'finalizers': ['kubernetes']},\n",
       "            'status': {'conditions': None, 'phase': 'Active'}}],\n",
       " 'kind': 'NamespaceList',\n",
       " 'metadata': {'_continue': None,\n",
       "              'remaining_item_count': None,\n",
       "              'resource_version': '489670',\n",
       "              'self_link': None}}"
      ]
     },
     "execution_count": 23,
     "metadata": {},
     "output_type": "execute_result"
    }
   ],
   "source": [
    "v1 = client.CoreV1Api()\n",
    "v1."
   ]
  }
 ],
 "metadata": {
  "kernelspec": {
   "display_name": "Python 3",
   "language": "python",
   "name": "python3"
  },
  "language_info": {
   "codemirror_mode": {
    "name": "ipython",
    "version": 3
   },
   "file_extension": ".py",
   "mimetype": "text/x-python",
   "name": "python",
   "nbconvert_exporter": "python",
   "pygments_lexer": "ipython3",
   "version": "3.10.10"
  },
  "orig_nbformat": 4
 },
 "nbformat": 4,
 "nbformat_minor": 2
}
