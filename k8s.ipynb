{
 "cells": [
  {
   "cell_type": "code",
   "execution_count": 1,
   "metadata": {},
   "outputs": [],
   "source": [
    "from kubernetes import client, config,utils\n",
    "import pprint"
   ]
  },
  {
   "attachments": {},
   "cell_type": "markdown",
   "metadata": {},
   "source": [
    "# Kubernetes Api Client\n"
   ]
  },
  {
   "attachments": {},
   "cell_type": "markdown",
   "metadata": {},
   "source": [
    "## Cluster config & Client 정의"
   ]
  },
  {
   "cell_type": "code",
   "execution_count": 2,
   "metadata": {},
   "outputs": [],
   "source": [
    "config.load_kube_config()\n",
    "k8s_client = client.ApiClient() "
   ]
  },
  {
   "attachments": {},
   "cell_type": "markdown",
   "metadata": {},
   "source": [
    "# Kubernetes CRD Client"
   ]
  },
  {
   "cell_type": "code",
   "execution_count": 3,
   "metadata": {},
   "outputs": [],
   "source": [
    "config.load_kube_config()\n",
    "api = client.CustomObjectsApi()"
   ]
  },
  {
   "attachments": {},
   "cell_type": "markdown",
   "metadata": {},
   "source": [
    "# CRD Get"
   ]
  },
  {
   "cell_type": "code",
   "execution_count": 4,
   "metadata": {},
   "outputs": [],
   "source": [
    "resource = api.get_namespaced_custom_object(\n",
    "    group=\"scheduling.volcano.sh\",\n",
    "    version=\"v1beta1\",\n",
    "    name=\"podgroup-e029423c-dc67-45b9-9f80-ebd941fc1605\",\n",
    "    namespace=\"argo\",\n",
    "    plural=\"podgroups\"\n",
    ")"
   ]
  },
  {
   "cell_type": "code",
   "execution_count": 5,
   "metadata": {},
   "outputs": [
    {
     "name": "stdout",
     "output_type": "stream",
     "text": [
      "{'apiVersion': 'scheduling.volcano.sh/v1beta1',\n",
      " 'kind': 'PodGroup',\n",
      " 'metadata': {'creationTimestamp': '2023-05-30T10:56:45Z',\n",
      "              'generation': 2609,\n",
      "              'managedFields': [{'apiVersion': 'scheduling.volcano.sh/v1beta1',\n",
      "                                 'fieldsType': 'FieldsV1',\n",
      "                                 'fieldsV1': {'f:metadata': {'f:ownerReferences': {'.': {},\n",
      "                                                                                   'k:{\"uid\":\"e029423c-dc67-45b9-9f80-ebd941fc1605\"}': {'.': {},\n",
      "                                                                                                                                        'f:apiVersion': {},\n",
      "                                                                                                                                        'f:blockOwnerDeletion': {},\n",
      "                                                                                                                                        'f:controller': {},\n",
      "                                                                                                                                        'f:kind': {},\n",
      "                                                                                                                                        'f:name': {},\n",
      "                                                                                                                                        'f:uid': {}}}},\n",
      "                                              'f:spec': {'.': {},\n",
      "                                                         'f:minMember': {},\n",
      "                                                         'f:minResources': {'.': {},\n",
      "                                                                            'f:count/pods': {},\n",
      "                                                                            'f:cpu': {},\n",
      "                                                                            'f:pods': {},\n",
      "                                                                            'f:requests.cpu': {}},\n",
      "                                                         'f:priorityClassName': {}},\n",
      "                                              'f:status': {'.': {},\n",
      "                                                           'f:conditions': {},\n",
      "                                                           'f:phase': {},\n",
      "                                                           'f:succeeded': {}}},\n",
      "                                 'manager': 'Go-http-client',\n",
      "                                 'operation': 'Update',\n",
      "                                 'time': '2023-05-30T10:56:53Z'}],\n",
      "              'name': 'podgroup-e029423c-dc67-45b9-9f80-ebd941fc1605',\n",
      "              'namespace': 'argo',\n",
      "              'ownerReferences': [{'apiVersion': 'argoproj.io/v1alpha1',\n",
      "                                   'blockOwnerDeletion': True,\n",
      "                                   'controller': True,\n",
      "                                   'kind': 'Workflow',\n",
      "                                   'name': 'python-test',\n",
      "                                   'uid': 'e029423c-dc67-45b9-9f80-ebd941fc1605'}],\n",
      "              'resourceVersion': '530513',\n",
      "              'uid': '65f730f3-e114-4e0f-9298-fdc53aa0636e'},\n",
      " 'spec': {'minMember': 1,\n",
      "          'minResources': {'count/pods': '1',\n",
      "                           'cpu': '2',\n",
      "                           'pods': '1',\n",
      "                           'requests.cpu': '2'},\n",
      "          'priorityClassName': 'h-priority',\n",
      "          'queue': 'default'},\n",
      " 'status': {'conditions': [{'lastTransitionTime': '2023-06-01T13:40:22Z',\n",
      "                            'reason': 'tasks in gang are ready to be scheduled',\n",
      "                            'status': 'True',\n",
      "                            'transitionID': '8b966566-4b9d-4e3f-8c8e-a0a99087ff96',\n",
      "                            'type': 'Scheduled'}],\n",
      "            'phase': 'Completed',\n",
      "            'succeeded': 1}}\n"
     ]
    }
   ],
   "source": [
    "import pprint \n",
    "pprint.pprint(resource)"
   ]
  },
  {
   "attachments": {},
   "cell_type": "markdown",
   "metadata": {},
   "source": [
    "# CRD Information"
   ]
  },
  {
   "cell_type": "code",
   "execution_count": 7,
   "metadata": {},
   "outputs": [
    {
     "name": "stdout",
     "output_type": "stream",
     "text": [
      "Completed h-priority default\n"
     ]
    }
   ],
   "source": [
    "status = resource['status']['phase'] # 상태\n",
    "priorityClassName = resource['spec']['priorityClassName'] # penalty value\n",
    "queue = resource['spec']['queue'] # queue\n",
    "\n",
    "print(status,priorityClassName,queue)"
   ]
  },
  {
   "attachments": {},
   "cell_type": "markdown",
   "metadata": {},
   "source": [
    "# Volcano 스케줄러 사이클\n",
    "\n",
    "1. Kubeflow에서 pipeline을 돌림  \n",
    "2. Argo workflow 형태로 작업이 시작됨  \n",
    "    - workflow 형태는 시작되면 Active 완료시 Succeeded 상태가 됨  \n",
    "3. schedulerName과 podPriorityClassName, queue 정보 등을 기입함  \n",
    "4. 생성된 workflow는 지정한 queue에 podgroup의 crd 형태로 시작된다.  \n",
    "5. 완료된 podgroup은 삭제되지 않는다.\n",
    "    - podgroup은 namespace, queue별로 지정되서 들어간다.\n",
    "    - 이걸 활용해서 penalty를 계산해야하나?  \n",
    "6. 패널티 계산 로직에 따라 패널티를 계산하고 완화한다.\n",
    "    - 패널티는 priorityclass의 value를 통해 계산한다."
   ]
  },
  {
   "attachments": {},
   "cell_type": "markdown",
   "metadata": {},
   "source": [
    "# PriorityClassName GET"
   ]
  },
  {
   "cell_type": "code",
   "execution_count": 8,
   "metadata": {},
   "outputs": [],
   "source": [
    "priorityClassResource = api.get_cluster_custom_object(\n",
    "    group=\"scheduling.k8s.io\",\n",
    "    version=\"v1\",\n",
    "    name=\"h-priority\",\n",
    "    plural=\"priorityclasses\"\n",
    ")"
   ]
  },
  {
   "cell_type": "code",
   "execution_count": 9,
   "metadata": {},
   "outputs": [
    {
     "name": "stdout",
     "output_type": "stream",
     "text": [
      "{'apiVersion': 'scheduling.k8s.io/v1',\n",
      " 'kind': 'PriorityClass',\n",
      " 'metadata': {'creationTimestamp': '2023-05-26T06:44:33Z',\n",
      "              'generation': 1,\n",
      "              'managedFields': [{'apiVersion': 'scheduling.k8s.io/v1',\n",
      "                                 'fieldsType': 'FieldsV1',\n",
      "                                 'fieldsV1': {'f:preemptionPolicy': {},\n",
      "                                              'f:value': {}},\n",
      "                                 'manager': 'OpenAPI-Generator',\n",
      "                                 'operation': 'Update',\n",
      "                                 'time': '2023-05-26T06:44:33Z'}],\n",
      "              'name': 'h-priority',\n",
      "              'resourceVersion': '15476',\n",
      "              'uid': 'bfbe9c75-151e-43e7-90b8-2d23fca8ce9a'},\n",
      " 'preemptionPolicy': 'PreemptLowerPriority',\n",
      " 'value': 1000}\n"
     ]
    }
   ],
   "source": [
    "pprint.pprint(priorityClassResource)"
   ]
  },
  {
   "cell_type": "code",
   "execution_count": 10,
   "metadata": {},
   "outputs": [
    {
     "data": {
      "text/plain": [
       "1000"
      ]
     },
     "execution_count": 10,
     "metadata": {},
     "output_type": "execute_result"
    }
   ],
   "source": [
    "penaltyValue = priorityClassResource['value']\n",
    "\n",
    "penaltyValue"
   ]
  },
  {
   "attachments": {},
   "cell_type": "markdown",
   "metadata": {},
   "source": [
    "# Creating PriorityClass"
   ]
  },
  {
   "attachments": {},
   "cell_type": "markdown",
   "metadata": {},
   "source": [
    "## Body 정의"
   ]
  },
  {
   "cell_type": "code",
   "execution_count": 11,
   "metadata": {},
   "outputs": [],
   "source": [
    "priority_body = {\n",
    "    \"apiVersion\": \"scheduling.k8s.io/v1\",\n",
    "    \"kind\": \"PriorityClass\",\n",
    "    \"metadata\": {\"name\" : \"high-priority\"},\n",
    "    \"preemptionPolicy\": \"PreemptLowerPriority\",\n",
    "    \"value\" : 10001\n",
    "}"
   ]
  },
  {
   "attachments": {},
   "cell_type": "markdown",
   "metadata": {},
   "source": [
    "## Create"
   ]
  },
  {
   "cell_type": "code",
   "execution_count": 14,
   "metadata": {},
   "outputs": [],
   "source": [
    "created_resource = api.create_cluster_custom_object(\n",
    "    group=\"scheduling.k8s.io\",\n",
    "    version=\"v1\",\n",
    "    plural=\"priorityclasses\",\n",
    "    body=priority_body\n",
    ")"
   ]
  },
  {
   "cell_type": "code",
   "execution_count": 15,
   "metadata": {},
   "outputs": [
    {
     "name": "stdout",
     "output_type": "stream",
     "text": [
      "{'apiVersion': 'scheduling.k8s.io/v1',\n",
      " 'kind': 'PriorityClass',\n",
      " 'metadata': {'creationTimestamp': '2023-06-01T13:41:40Z',\n",
      "              'generation': 1,\n",
      "              'managedFields': [{'apiVersion': 'scheduling.k8s.io/v1',\n",
      "                                 'fieldsType': 'FieldsV1',\n",
      "                                 'fieldsV1': {'f:preemptionPolicy': {},\n",
      "                                              'f:value': {}},\n",
      "                                 'manager': 'OpenAPI-Generator',\n",
      "                                 'operation': 'Update',\n",
      "                                 'time': '2023-06-01T13:41:40Z'}],\n",
      "              'name': 'high-priority',\n",
      "              'resourceVersion': '530600',\n",
      "              'uid': 'a2eb8747-1183-4e42-b7ec-a931f33e974d'},\n",
      " 'preemptionPolicy': 'PreemptLowerPriority',\n",
      " 'value': 10001}\n"
     ]
    }
   ],
   "source": [
    "get_created_resource = api.get_cluster_custom_object(\n",
    "    group=\"scheduling.k8s.io\",\n",
    "    version=\"v1\",\n",
    "    plural=\"priorityclasses\",\n",
    "    name=\"high-priority\"\n",
    ")\n",
    "\n",
    "pprint.pprint(get_created_resource)"
   ]
  },
  {
   "attachments": {},
   "cell_type": "markdown",
   "metadata": {},
   "source": [
    "## Delete"
   ]
  },
  {
   "cell_type": "code",
   "execution_count": 16,
   "metadata": {},
   "outputs": [],
   "source": [
    "result = api.delete_cluster_custom_object(\n",
    "    group=\"scheduling.k8s.io\",\n",
    "    version=\"v1\",\n",
    "    plural=\"priorityclasses\",\n",
    "    name=\"high-priority\"\n",
    ")"
   ]
  },
  {
   "attachments": {},
   "cell_type": "markdown",
   "metadata": {},
   "source": [
    "# PriorityClass Update 순서\n",
    "\n",
    "### 1. PodGroup이 Pending에서 Running 상태가 된다.\n",
    "### 2. 해당 PodGroup이 참조하는 PriorityClass를 찾아서 value값만 받아오고 삭제한다.\n",
    "### 3. value에 penalty정책을 적용하여 갱신된 value 값을 같은 이름의 PriorityClass로 새로 만든다.\n",
    "### 4. PodGroup의 상태가 Completed가 되면 count를 1개 올리고 penalty 정책에 반영한다.\n",
    "### 5. 일정 시간동안 count의 변화가 없으면 PriorityClass의 value값을 점차 회복시킨다."
   ]
  },
  {
   "cell_type": "code",
   "execution_count": null,
   "metadata": {},
   "outputs": [],
   "source": []
  }
 ],
 "metadata": {
  "kernelspec": {
   "display_name": "Python 3",
   "language": "python",
   "name": "python3"
  },
  "language_info": {
   "codemirror_mode": {
    "name": "ipython",
    "version": 3
   },
   "file_extension": ".py",
   "mimetype": "text/x-python",
   "name": "python",
   "nbconvert_exporter": "python",
   "pygments_lexer": "ipython3",
   "version": "3.10.10"
  },
  "orig_nbformat": 4
 },
 "nbformat": 4,
 "nbformat_minor": 2
}
